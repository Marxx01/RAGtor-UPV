{
 "cells": [
  {
   "cell_type": "code",
   "execution_count": null,
   "metadata": {},
   "outputs": [
    {
     "name": "stdout",
     "output_type": "stream",
     "text": [
      "¡Base de datos SQLite creada exitosamente!\n"
     ]
    }
   ],
   "source": [
    "import sqlite3\n",
    "import pandas as pd\n",
    "import os\n",
    "\n",
    "# Carpeta donde están los archivos CSV\n",
    "csv_folder = '../../01_data/DB_CSV'\n",
    "\n",
    "# Crear/conectar la base de datos SQLite\n",
    "sqlite_db_path = 'Normativa_SQL.db'\n",
    "sqlite_conn = sqlite3.connect(sqlite_db_path)\n",
    "\n",
    "# Recorrer todos los archivos CSV en la carpeta\n",
    "for filename in os.listdir(csv_folder):\n",
    "    if filename.endswith('.csv'):\n",
    "        file_path = os.path.join(csv_folder, filename)\n",
    "        table_name = os.path.splitext(filename)[0]  # Usar el nombre del archivo como nombre de tabla\n",
    "\n",
    "        # Leer el CSV con pandas\n",
    "        df = pd.read_csv(file_path, delimiter=';', encoding='utf-8')  # Cambia el delimitador si usaste otro\n",
    "\n",
    "        # Exportar el DataFrame a SQLite\n",
    "        df.to_sql(table_name, sqlite_conn, if_exists='replace', index=False)\n",
    "\n",
    "sqlite_conn.close()\n",
    "print('¡Base de datos SQLite creada exitosamente!')\n"
   ]
  }
 ],
 "metadata": {
  "kernelspec": {
   "display_name": ".venv",
   "language": "python",
   "name": "python3"
  },
  "language_info": {
   "codemirror_mode": {
    "name": "ipython",
    "version": 3
   },
   "file_extension": ".py",
   "mimetype": "text/x-python",
   "name": "python",
   "nbconvert_exporter": "python",
   "pygments_lexer": "ipython3",
   "version": "3.11.9"
  }
 },
 "nbformat": 4,
 "nbformat_minor": 2
}
