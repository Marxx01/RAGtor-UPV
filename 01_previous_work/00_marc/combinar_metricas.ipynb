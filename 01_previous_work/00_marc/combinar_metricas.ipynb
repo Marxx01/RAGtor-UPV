{
 "cells": [
  {
   "cell_type": "code",
   "execution_count": null,
   "id": "57271180",
   "metadata": {},
   "outputs": [],
   "source": [
    "eval = [\n",
    "    {\n",
    "        \"note\": \"BADREAD\",\n",
    "        \"chunk_size\": 500, \"chunk_overlap\": 150,\n",
    "        \"index\": \"faiss.IndexFlatL2\",\n",
    "        \"model\": \"sentence-transformers/LaBSE\",\n",
    "        \"k\": 2,\n",
    "        \"ExactMatch\": 0.0,\n",
    "        \"TokenF1\": 0.14221736750431255,\n",
    "        \"ROUGE_L\": 0.13505805216527372,\n",
    "        \"GroundingScore\": 0.5575275859671939,\n",
    "        \"ContextOverlapF1\": 0.30898537223719297,\n",
    "        \"QuestionContextSim\": 0.14030019196411614,\n",
    "        \"CosineContextAnswer\": 0.734840418611254,\n",
    "        \"CosineQuestionAnswer\": 0.7370671885354179,\n",
    "        \"CosineQuestionContext\": 0.6616021394729614,\n",
    "        \"CosineReferenceAnswer\": None,\n",
    "        \"L2ContextAnswer\": 18.38005610874721,\n",
    "        \"L2QuestionAnswer\": 18.847039767674037,\n",
    "        \"L2QuestionContext\": 21.355456488473074,\n",
    "        \"L2ReferenceAnswer\": None\n",
    "    },\n",
    "\n",
    "    {\n",
    "        \"note\": \"GOODREAD\",\n",
    "        \"chunk_size\": 300, \"chunk_overlap\": 100,\n",
    "        \"index\": \"faiss.IndexFlatL2\",\n",
    "        \"model\": \"sentence-transformers/LaBSE\",\n",
    "        \"k\": 2,\n",
    "        'ExactMatch': 0.0,\n",
    "        'TokenF1': 0.06753010169702935,\n",
    "        'ROUGE_L': 0.0642938557423368,\n",
    "        'GroundingScore': 0.6742382380292731,\n",
    "        'ContextOverlapF1': 0.5018434104390614,\n",
    "        'QuestionContextSim': 0.1981582161117383,\n",
    "        'CosineContextAnswer': 0.854008803764979,\n",
    "        'CosineQuestionAnswer': 0.8704183300336202,\n",
    "        'CosineQuestionContext': 0.7997889518737793,\n",
    "        'CosineReferenceAnswer': 0.20269746085007986,\n",
    "        'L2ContextAnswer': 1.4268150726954143,\n",
    "        'L2QuestionAnswer': 1.4146085778872173,\n",
    "        'L2QuestionContext': 1.7336900035540264,\n",
    "        'L2ReferenceAnswer': 3.3856134017308555\n",
    "    },\n",
    "\n",
    "    \n",
    "\n",
    "\n",
    "\n",
    "\n",
    "]"
   ]
  },
  {
   "cell_type": "code",
   "execution_count": null,
   "id": "5f46a235",
   "metadata": {},
   "outputs": [],
   "source": []
  }
 ],
 "metadata": {
  "language_info": {
   "name": "python"
  }
 },
 "nbformat": 4,
 "nbformat_minor": 5
}
