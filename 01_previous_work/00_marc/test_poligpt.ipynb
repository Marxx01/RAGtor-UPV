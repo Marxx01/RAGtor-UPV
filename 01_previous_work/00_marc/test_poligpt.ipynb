{
 "cells": [
  {
   "cell_type": "code",
   "execution_count": 13,
   "metadata": {},
   "outputs": [
    {
     "name": "stdout",
     "output_type": "stream",
     "text": [
      "La Universidad Politécnica de Valencia (UPV) ofrece una amplia variedad de destinos para realizar estancias Erasmus+ en universidades europeas. Estos destinos pueden variar dependiendo del programa académico y el curso en el que te encuentres, pero generalmente incluyen universidades en países como Alemania, Austria, Bélgica, Bulgaria, Croacia, Chipre, Dinamarca, Eslovaquia, Eslovenia, Estonia, Finlandia, Francia, Grecia, Hungría, Irlanda, Islandia, Italia, Letonia, Liechtenstein, Lituania, Luxemburgo, Malta, Noruega, Países Bajos, Polonia, Portugal, Reino Unido, República Checa, Rumania, Suecia y Suiza.\n",
      "\n",
      "Para conocer los destinos específicos disponibles para tu programa de estudios en la UPV, te recomendaría consultar directamente con el centro o facultad correspondiente dentro de la universidad. También puedes visitar la página web oficial de la UPV y buscar información sobre el programa Erasmus+, donde suelen publicar una lista de las universidades socias y los países disponibles para cada curso académico.\n",
      "\n",
      "Es importante tener en cuenta que la oferta de plazas puede cambiar de un año a otro, por lo que es crucial estar atento a las actualizaciones y fechas límite para las solicitudes. Además, muchos estudiantes valoran la experiencia Erasmus+ no solo por la oportunidad de mejorar su competencia lingüística y ampliar sus horizontes culturales, sino también por el enriquecimiento personal y académico que supone vivir y estudiar en un entorno internacional.\n"
     ]
    }
   ],
   "source": [
    "import openai\n",
    "\n",
    "client = openai.OpenAI(\n",
    "    api_key=\"\",\n",
    "    base_url=\"https://api.poligpt.upv.es\"\n",
    ")\n",
    "\n",
    "response = client.chat.completions.create(\n",
    "    model=\"poligpt\",\n",
    "    messages = [\n",
    "        {\n",
    "            \"role\": \"user\",\n",
    "            \"content\": \"¿Qué destinos de Erasmus hay en la UPV?\"\n",
    "        }\n",
    "    ],\n",
    "    max_tokens=500,\n",
    "    temperature = 0.8,\n",
    "    stream = False\n",
    ")\n",
    "print(response.choices[0].message.content)"
   ]
  }
 ],
 "metadata": {
  "kernelspec": {
   "display_name": "proy",
   "language": "python",
   "name": "python3"
  },
  "language_info": {
   "codemirror_mode": {
    "name": "ipython",
    "version": 3
   },
   "file_extension": ".py",
   "mimetype": "text/x-python",
   "name": "python",
   "nbconvert_exporter": "python",
   "pygments_lexer": "ipython3",
   "version": "3.11.11"
  }
 },
 "nbformat": 4,
 "nbformat_minor": 2
}
