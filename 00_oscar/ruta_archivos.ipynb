{
 "cells": [
  {
   "cell_type": "code",
   "execution_count": 29,
   "metadata": {},
   "outputs": [
    {
     "data": {
      "text/plain": [
       "('2013006700037300000387.pdf',\n",
       " '../01_data/BBDD_Normativa_UPV/2013/2013006700037300000387.pdf',\n",
       " 550831,\n",
       " 'Mon Nov 19 13:12:02 2018')"
      ]
     },
     "execution_count": 29,
     "metadata": {},
     "output_type": "execute_result"
    }
   ],
   "source": [
    "# Detectar por recusividad el nombre, la ruta, el tamaño y la fecha de modificación de los archivos de un directorio\n",
    "\n",
    "import os\n",
    "import time\n",
    "\n",
    "def listar_directorio(directorio, pdfs=None):\n",
    "    if pdfs is None:\n",
    "        pdfs = []\n",
    "    \n",
    "    # Recorremos todos los archivos en el directorio\n",
    "    for nombre in os.listdir(directorio):\n",
    "        ruta = os.path.join(directorio, nombre)\n",
    "        if os.path.isdir(ruta):\n",
    "            # Si es un directorio, llamamos recursivamente\n",
    "            listar_directorio(ruta, pdfs)\n",
    "        else:\n",
    "            # Obtenemos información sobre el archivo\n",
    "            info = os.stat(ruta)\n",
    "            # Si el archivo es un PDF, lo añadimos a la lista\n",
    "            if nombre.endswith('.pdf'):\n",
    "                pdfs.append((nombre, ruta, info.st_size, time.ctime(info.st_mtime)))\n",
    "                # NOMBRE RUTA SIZE FECHA\n",
    "    return pdfs\n",
    "\n",
    "pdfs = listar_directorio('../01_data/BBDD_Normativa_UPV')\n",
    "pdfs[0]"
   ]
  },
  {
   "cell_type": "code",
   "execution_count": null,
   "metadata": {},
   "outputs": [],
   "source": [
    "# Crear un código que haga una consulta a la base de datos para detectar si hay información de un archivo en la base de datos\n",
    "\n",
    "import sqlite3\n",
    "\n",
    "def conectar_bbdd(path):\n",
    "    conexion = sqlite3.connect(path)\n",
    "    cursor = conexion.cursor()\n",
    "    return conexion, cursor\n",
    "\n",
    "def desconectar_bbdd(conexion):\n",
    "    conexion.commit()\n",
    "    conexion.close()\n",
    "\n",
    "def create_id(name):\n",
    "    #crea un id (int) a partir del nombre del documento\n",
    "    return hash(name)\n",
    "\n",
    "def registrar_pdf(cursor, name, path, date, size):\n",
    "    cursor.execute(f\"\"\"INSERT INTO pdfs VALUES ({create_id(name)}, '{name}', '{path}', {size}, '{date}')\"\"\")\n",
    "    return \"Modificado\"\n",
    "\n",
    "def detectar_actualizaciones(cursor, name, path, size, date):\n",
    "    # Detectamos si esta en la base de datos\n",
    "    cursor.execute(\"\"\"SELECT * FROM pdfs WHERE path = '{path}' \"\"\")\n",
    "    datos = cursor.fetchall()\n",
    "    if datos:\n",
    "        # Vemos si la fecha y el tamaño coinciden o se han modificado\n",
    "        if datos[0][2] != date or datos[0][3] != size:\n",
    "            # Modificar BBDD\n",
    "    \n",
    "            # Registrar en la tabla de LOGs\n",
    "            return \"MOD\"\n",
    "        else:\n",
    "            return \"NOMOD\"\n",
    "    else:\n",
    "        registrar_pdf(cursor, name, path, date, size)"
   ]
  },
  {
   "cell_type": "code",
   "execution_count": 31,
   "metadata": {},
   "outputs": [
    {
     "name": "stdout",
     "output_type": "stream",
     "text": [
      "[]\n"
     ]
    },
    {
     "ename": "OperationalError",
     "evalue": "database is locked",
     "output_type": "error",
     "traceback": [
      "\u001b[0;31m---------------------------------------------------------------------------\u001b[0m",
      "\u001b[0;31mOperationalError\u001b[0m                          Traceback (most recent call last)",
      "Cell \u001b[0;32mIn[31], line 5\u001b[0m\n\u001b[1;32m      3\u001b[0m \u001b[38;5;28;01mfor\u001b[39;00m pdf \u001b[38;5;129;01min\u001b[39;00m pdfs:\n\u001b[1;32m      4\u001b[0m     nombre, ruta, size, date \u001b[38;5;241m=\u001b[39m pdf\n\u001b[0;32m----> 5\u001b[0m     detectar_actualizaciones(cursor, nombre, ruta, size, date)\n",
      "Cell \u001b[0;32mIn[30], line 37\u001b[0m, in \u001b[0;36mdetectar_actualizaciones\u001b[0;34m(cursor, name, path, size, date)\u001b[0m\n\u001b[1;32m     35\u001b[0m         \u001b[38;5;28;01mreturn\u001b[39;00m \u001b[38;5;124m\"\u001b[39m\u001b[38;5;124mNOMOD\u001b[39m\u001b[38;5;124m\"\u001b[39m\n\u001b[1;32m     36\u001b[0m \u001b[38;5;28;01melse\u001b[39;00m:\n\u001b[0;32m---> 37\u001b[0m     registrar_pdf(cursor, name, path, date, size)\n",
      "Cell \u001b[0;32mIn[30], line 19\u001b[0m, in \u001b[0;36mregistrar_pdf\u001b[0;34m(cursor, name, path, date, size)\u001b[0m\n\u001b[1;32m     18\u001b[0m \u001b[38;5;28;01mdef\u001b[39;00m \u001b[38;5;21mregistrar_pdf\u001b[39m(cursor, name, path, date, size):\n\u001b[0;32m---> 19\u001b[0m     cursor\u001b[38;5;241m.\u001b[39mexecute(\u001b[38;5;124mf\u001b[39m\u001b[38;5;124m\"\"\"\u001b[39m\u001b[38;5;124mINSERT INTO pdfs VALUES (\u001b[39m\u001b[38;5;132;01m{\u001b[39;00mcreate_id(name)\u001b[38;5;132;01m}\u001b[39;00m\u001b[38;5;124m, \u001b[39m\u001b[38;5;124m'\u001b[39m\u001b[38;5;132;01m{\u001b[39;00mname\u001b[38;5;132;01m}\u001b[39;00m\u001b[38;5;124m'\u001b[39m\u001b[38;5;124m, \u001b[39m\u001b[38;5;124m'\u001b[39m\u001b[38;5;132;01m{\u001b[39;00mpath\u001b[38;5;132;01m}\u001b[39;00m\u001b[38;5;124m'\u001b[39m\u001b[38;5;124m, \u001b[39m\u001b[38;5;132;01m{\u001b[39;00msize\u001b[38;5;132;01m}\u001b[39;00m\u001b[38;5;124m, \u001b[39m\u001b[38;5;124m'\u001b[39m\u001b[38;5;132;01m{\u001b[39;00mdate\u001b[38;5;132;01m}\u001b[39;00m\u001b[38;5;124m'\u001b[39m\u001b[38;5;124m)\u001b[39m\u001b[38;5;124m\"\"\"\u001b[39m)\n\u001b[1;32m     20\u001b[0m     \u001b[38;5;28;01mreturn\u001b[39;00m \u001b[38;5;124m\"\u001b[39m\u001b[38;5;124mModificado\u001b[39m\u001b[38;5;124m\"\u001b[39m\n",
      "\u001b[0;31mOperationalError\u001b[0m: database is locked"
     ]
    }
   ],
   "source": [
    "conexion, cursor = conectar_bbdd('../01_data/project_database.db')\n",
    "\n",
    "for pdf in pdfs:\n",
    "    nombre, ruta, size, date = pdf\n",
    "    detectar_actualizaciones(cursor, nombre, ruta, size, date)"
   ]
  },
  {
   "cell_type": "code",
   "execution_count": null,
   "metadata": {},
   "outputs": [],
   "source": [
    "desconectar_bbdd(conexion)"
   ]
  }
 ],
 "metadata": {
  "kernelspec": {
   "display_name": "proy",
   "language": "python",
   "name": "python3"
  },
  "language_info": {
   "codemirror_mode": {
    "name": "ipython",
    "version": 3
   },
   "file_extension": ".py",
   "mimetype": "text/x-python",
   "name": "python",
   "nbconvert_exporter": "python",
   "pygments_lexer": "ipython3",
   "version": "3.11.11"
  }
 },
 "nbformat": 4,
 "nbformat_minor": 2
}
