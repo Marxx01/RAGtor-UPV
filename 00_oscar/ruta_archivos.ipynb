{
 "cells": [
  {
   "cell_type": "code",
   "execution_count": 32,
   "metadata": {},
   "outputs": [
    {
     "data": {
      "text/plain": [
       "('2013006700037300000387.pdf',\n",
       " '../01_data/BBDD_Normativa_UPV/2013/2013006700037300000387.pdf',\n",
       " 550831,\n",
       " 'Mon Nov 19 13:12:02 2018')"
      ]
     },
     "execution_count": 32,
     "metadata": {},
     "output_type": "execute_result"
    }
   ],
   "source": [
    "# Detectar por recusividad el nombre, la ruta, el tamaño y la fecha de modificación de los archivos de un directorio\n",
    "\n",
    "import os\n",
    "import time\n",
    "\n",
    "def listar_directorio(directorio, pdfs=None):\n",
    "    if pdfs is None:\n",
    "        pdfs = []\n",
    "    \n",
    "    # Recorremos todos los archivos en el directorio\n",
    "    for nombre in os.listdir(directorio):\n",
    "        ruta = os.path.join(directorio, nombre)\n",
    "        if os.path.isdir(ruta):\n",
    "            # Si es un directorio, llamamos recursivamente\n",
    "            listar_directorio(ruta, pdfs)\n",
    "        else:\n",
    "            # Obtenemos información sobre el archivo\n",
    "            info = os.stat(ruta)\n",
    "            # Si el archivo es un PDF, lo añadimos a la lista\n",
    "            if nombre.endswith('.pdf'):\n",
    "                pdfs.append((nombre, ruta, info.st_size, time.ctime(info.st_mtime)))\n",
    "                # NOMBRE RUTA SIZE FECHA\n",
    "    return pdfs\n",
    "\n",
    "pdfs = listar_directorio('../01_data/BBDD_Normativa_UPV')\n",
    "pdfs[0]"
   ]
  },
  {
   "cell_type": "code",
   "execution_count": 35,
   "metadata": {},
   "outputs": [],
   "source": [
    "# Crear un código que haga una consulta a la base de datos para detectar si hay información de un archivo en la base de datos\n",
    "\n",
    "import sqlite3\n",
    "\n",
    "def conectar_bbdd(path):\n",
    "    conexion = sqlite3.connect(path)\n",
    "    cursor = conexion.cursor()\n",
    "    return conexion, cursor\n",
    "\n",
    "def desconectar_bbdd(conexion):\n",
    "    conexion.commit()\n",
    "    conexion.close()\n",
    "\n",
    "def create_id(name):\n",
    "    #crea un id (int) a partir del nombre del documento\n",
    "    return hash(name)\n",
    "\n",
    "def registrar_pdf(cursor, name, path, date, size):\n",
    "    cursor.execute(f\"\"\"INSERT INTO pdfs VALUES ({create_id(name)}, '{name}', '{path}', {size}, '{date}')\"\"\")\n",
    "\n",
    "def detectar_actualizaciones(cursor, name, path, size, date):\n",
    "    # Detectamos si esta en la base de datos\n",
    "    cursor.execute(\"\"\"SELECT * FROM pdfs WHERE path = '{path}' \"\"\")\n",
    "    datos = cursor.fetchall()\n",
    "    if datos:\n",
    "        # Vemos si la fecha y el tamaño coinciden o se han modificado\n",
    "        if datos[0][2] != date or datos[0][3] != size:\n",
    "            # Modificar BBDD\n",
    "    \n",
    "            # Registrar en la tabla de LOGs\n",
    "            return \"MOD\"\n",
    "        else:\n",
    "            return \"NOMOD\"\n",
    "    else:\n",
    "        registrar_pdf(cursor, name, path, date, size)\n",
    "        return \"NEW\""
   ]
  },
  {
   "cell_type": "code",
   "execution_count": 36,
   "metadata": {},
   "outputs": [],
   "source": [
    "conexion, cursor = conectar_bbdd('../01_data/project_database.db')\n",
    "\n",
    "for pdf in pdfs:\n",
    "    nombre, ruta, size, date = pdf\n",
    "    detectar_actualizaciones(cursor, nombre, ruta, size, date)"
   ]
  },
  {
   "cell_type": "code",
   "execution_count": 37,
   "metadata": {},
   "outputs": [],
   "source": [
    "desconectar_bbdd(conexion)"
   ]
  },
  {
   "cell_type": "code",
   "execution_count": null,
   "metadata": {},
   "outputs": [],
   "source": []
  }
 ],
 "metadata": {
  "kernelspec": {
   "display_name": "proy",
   "language": "python",
   "name": "python3"
  },
  "language_info": {
   "codemirror_mode": {
    "name": "ipython",
    "version": 3
   },
   "file_extension": ".py",
   "mimetype": "text/x-python",
   "name": "python",
   "nbconvert_exporter": "python",
   "pygments_lexer": "ipython3",
   "version": "3.11.11"
  }
 },
 "nbformat": 4,
 "nbformat_minor": 2
}
