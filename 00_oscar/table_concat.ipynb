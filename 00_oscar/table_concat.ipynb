{
 "cells": [
  {
   "cell_type": "code",
   "execution_count": null,
   "metadata": {},
   "outputs": [
    {
     "name": "stdout",
     "output_type": "stream",
     "text": [
      "Base de datos '../01_data/project_database.db' creada exitosamente.\n"
     ]
    }
   ],
   "source": [
    "import sqlite3\n",
    "\n",
    "# Función para crear la base de datos y la tabla\n",
    "def crear_base_datos(nombre_db = \"../01_data/project_database.db\"):\n",
    "    \"\"\"\n",
    "    Crea una base de datos SQLite con una tabla para almacenar información de archivos PDF.\n",
    "    \"\"\"\n",
    "    # Conectar a la base de datos (si no existe, se creará)\n",
    "    conn = sqlite3.connect(nombre_db)\n",
    "\n",
    "    conn.execute(\"PRAGMA foreign_keys = ON;\")\n",
    "    cursor = conn.cursor()\n",
    "    \n",
    "    # Crear la tabla para almacenar información de PDFs\n",
    "    cursor.execute(\"\"\"\n",
    "    CREATE TABLE IF NOT EXISTS PDFs (\n",
    "        ID INTEGER PRIMARY KEY AUTOINCREMENT,\n",
    "        NAME TEXT NOT NULL,\n",
    "        PATH TEXT NOT NULL,\n",
    "        SIZE REAL,\n",
    "        DATE TEXT,\n",
    "        IN_USE BOOLEAN DEFAULT TRUE,\n",
    "        LAST_USE TEXT\n",
    "    );\n",
    "    \"\"\")\n",
    "\n",
    "    # Crear la tabla LOGs, que registra los cambios de los PDFs\n",
    "    cursor.execute(\"\"\"\n",
    "    CREATE TABLE IF NOT EXISTS LOGs (\n",
    "        ID INTEGER PRIMARY KEY AUTOINCREMENT,\n",
    "        PDF_ID INTEGER,\n",
    "        PDF_ID_OLD INTEGER,\n",
    "        DATE TEXT NOT NULL,\n",
    "        ACTION TEXT NOT NULL,\n",
    "        FOREIGN KEY (PDF_ID) REFERENCES PDFs(ID) \n",
    "            ON DELETE CASCADE \n",
    "            ON UPDATE CASCADE\n",
    "        FOREIGN KEY (PDF_ID_OLD) REFERENCES PDFs(ID)\n",
    "            ON DELETE CASCADE \n",
    "            ON UPDATE CASCADE,\n",
    "        CHECK (PDF_ID IS NOT NULL OR PDF_ID_OLD IS NOT NULL)\n",
    "    );\n",
    "    \"\"\")\n",
    "\n",
    "    # Crear la tabla Chunks, que almacena fragmentos de texto de los PDFs\n",
    "    cursor.execute(\"\"\"\n",
    "    CREATE TABLE IF NOT EXISTS CHUNKS (\n",
    "        ID INTEGER PRIMARY KEY,\n",
    "        PDF_ID INTEGER NOT NULL,\n",
    "        PAGE INTEGER NOT NULL,\n",
    "        FOREIGN KEY (PDF_ID) REFERENCES PDFs(ID) \n",
    "            ON DELETE CASCADE\n",
    "            ON UPDATE CASCADE\n",
    "    );\n",
    "    \"\"\")\n",
    "    \n",
    "    # Guardar los cambios y cerrar la conexión\n",
    "    conn.commit()\n",
    "    conn.close()\n",
    "    \n",
    "    print(f\"Base de datos '{nombre_db}' creada exitosamente.\")\n",
    "crear_base_datos()"
   ]
  }
 ],
 "metadata": {
  "kernelspec": {
   "display_name": "Python 3",
   "language": "python",
   "name": "python3"
  },
  "language_info": {
   "codemirror_mode": {
    "name": "ipython",
    "version": 3
   },
   "file_extension": ".py",
   "mimetype": "text/x-python",
   "name": "python",
   "nbconvert_exporter": "python",
   "pygments_lexer": "ipython3",
   "version": "3.11.9"
  }
 },
 "nbformat": 4,
 "nbformat_minor": 2
}
