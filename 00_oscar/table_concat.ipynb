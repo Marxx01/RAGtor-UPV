{
 "cells": [
  {
   "cell_type": "code",
   "execution_count": null,
   "metadata": {},
   "outputs": [],
   "source": []
  },
  {
   "cell_type": "code",
   "execution_count": null,
   "metadata": {},
   "outputs": [],
   "source": [
    "import sqlite3\n",
    "import os\n",
    "from datetime import datetime\n",
    "\n",
    "# Función para crear la base de datos y la tabla\n",
    "def crear_base_datos(nombre_db=\"project_database.db\"):\n",
    "    \"\"\"\n",
    "    Crea una base de datos SQLite con una tabla para almacenar información de archivos PDF.\n",
    "    \"\"\"\n",
    "    # Conectar a la base de datos (si no existe, se creará)\n",
    "    conn = sqlite3.connect(nombre_db)\n",
    "    cursor = conn.cursor()\n",
    "    \n",
    "    # Crear la tabla para almacenar información de PDFs\n",
    "    cursor.execute('''\n",
    "    CREATE TABLE IF NOT EXISTS pdfs (\n",
    "        id INTEGER PRIMARY KEY AUTOINCREMENT,\n",
    "        name TEXT NOT NULL,\n",
    "        path TEXT NOT NULL,\n",
    "        weight REAL NOT NULL,\n",
    "        date TEXT NOT NULL\n",
    "    )\n",
    "    ''')\n",
    "\n",
    "    cursor.execute('''\n",
    "    CREATE TABLE IF NOT EXISTS changes (\n",
    "        id INTEGER PRIMARY KEY AUTOINCREMENT,\n",
    "        name TEXT NOT NULL,\n",
    "        path TEXT NOT NULL,\n",
    "        previous_weight REAL NOT NULL,\n",
    "        new_weight REAL NOT NULL,\n",
    "        new_date TEXT NOT NULL,\n",
    "        previous_date TEXT NOT NULL\n",
    "    )\n",
    "    ''')\n",
    "\n",
    "    \n",
    "    # Guardar los cambios y cerrar la conexión\n",
    "    conn.commit()\n",
    "    conn.close()\n",
    "    \n",
    "    print(f\"Base de datos '{nombre_db}' creada exitosamente.\")\n",
    "crear_base_datos()"
   ]
  },
  {
   "cell_type": "code",
   "execution_count": null,
   "metadata": {},
   "outputs": [],
   "source": []
  }
 ],
 "metadata": {
  "language_info": {
   "name": "python"
  }
 },
 "nbformat": 4,
 "nbformat_minor": 2
}
