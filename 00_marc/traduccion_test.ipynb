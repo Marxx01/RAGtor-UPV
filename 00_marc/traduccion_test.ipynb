{
 "cells": [
  {
   "cell_type": "code",
   "execution_count": 1,
   "metadata": {},
   "outputs": [
    {
     "name": "stderr",
     "output_type": "stream",
     "text": [
      "/Users/mhurben/anaconda3/envs/proy/lib/python3.11/site-packages/tqdm/auto.py:21: TqdmWarning: IProgress not found. Please update jupyter and ipywidgets. See https://ipywidgets.readthedocs.io/en/stable/user_install.html\n",
      "  from .autonotebook import tqdm as notebook_tqdm\n",
      "/Users/mhurben/anaconda3/envs/proy/lib/python3.11/site-packages/transformers/models/marian/tokenization_marian.py:175: UserWarning: Recommended: pip install sacremoses.\n",
      "  warnings.warn(\"Recommended: pip install sacremoses.\")\n"
     ]
    }
   ],
   "source": [
    "from datasets import load_dataset\n",
    "from transformers import AutoTokenizer, AutoModelForSeq2SeqLM\n",
    "\n",
    "ds = load_dataset(\"9wimu9/wiki_support_docs_en\", split=\"train\")\n",
    "\n",
    "tokenizer = AutoTokenizer.from_pretrained(\"Helsinki-NLP/opus-mt-en-es\")\n",
    "model = AutoModelForSeq2SeqLM.from_pretrained(\"Helsinki-NLP/opus-mt-en-es\")"
   ]
  },
  {
   "cell_type": "code",
   "execution_count": 13,
   "metadata": {},
   "outputs": [
    {
     "name": "stdout",
     "output_type": "stream",
     "text": [
      "Question: ¿Cuál es la diferencia entre un bosque y un bosque?\n",
      "Context: La madera es dividida, según su origen botánico, en dos tipos: maderas blandas, de árboles de coníferas, y maderas duras, de árboles de hoja ancha. Las maderas blandas son más ligeras y en general de estructura simple, mientras que las maderas duras son más duras y complejas. Sin embargo, en Australia, \"madera blanda\" generalmente describe los árboles de bosques tropicales, y \"madera dura\" describe las especies de Sclerophyll (\"Eucalyptus\" \"spp\").Woodland es definido por Chambers Diccionario Inglés como \"tierra cubierta de madera\" es decir, dominada por especies de árboles. La silvicultura se define como \"1. la ciencia y el arte de plantar, tender y gestionar bosques; 2. Forest countries\".Esto implica que los bosques han sido plantados por la humanidad para una variedad de propósitos, pero principalmente para la explotación de madera y la pulpa para la industria de papel.\n"
     ]
    }
   ],
   "source": [
    "for i, row in enumerate(iter(ds)):\n",
    "    # Use the model to translate the text\n",
    "    context = row[\"support_documents\"]\n",
    "    question = row[\"question\"]\n",
    "    if type(context) is list:\n",
    "        context = \"\".join(context for context in context)\n",
    "    inputs_q = tokenizer(question, return_tensors=\"pt\")\n",
    "    inputs_c = tokenizer(context, return_tensors=\"pt\", truncation=True)\n",
    "\n",
    "    outputs_q = model.generate(**inputs_q)\n",
    "    outputs_c = model.generate(**inputs_c)\n",
    "    translation_q = tokenizer.decode(outputs_q[0], skip_special_tokens=True)\n",
    "    translation_c = tokenizer.decode(outputs_c[0], skip_special_tokens=True)\n",
    "    print(f\"Question: {translation_q}\")\n",
    "    print(f\"Context: {translation_c}\")\n",
    "    break\n",
    "\n"
   ]
  },
  {
   "cell_type": "code",
   "execution_count": 2,
   "metadata": {},
   "outputs": [
    {
     "data": {
      "text/plain": [
       "'hola como estas hoy ?'"
      ]
     },
     "execution_count": 2,
     "metadata": {},
     "output_type": "execute_result"
    }
   ],
   "source": [
    "a = ['hola', 'como', 'estas', 'hoy', '?']\n",
    "b = ' '.join(a)\n",
    "b"
   ]
  },
  {
   "cell_type": "code",
   "execution_count": null,
   "metadata": {},
   "outputs": [],
   "source": []
  }
 ],
 "metadata": {
  "kernelspec": {
   "display_name": "proy",
   "language": "python",
   "name": "python3"
  },
  "language_info": {
   "codemirror_mode": {
    "name": "ipython",
    "version": 3
   },
   "file_extension": ".py",
   "mimetype": "text/x-python",
   "name": "python",
   "nbconvert_exporter": "python",
   "pygments_lexer": "ipython3",
   "version": "3.11.11"
  }
 },
 "nbformat": 4,
 "nbformat_minor": 2
}
