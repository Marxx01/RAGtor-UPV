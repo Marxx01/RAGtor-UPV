{
 "cells": [
  {
   "cell_type": "code",
   "execution_count": 1,
   "metadata": {},
   "outputs": [
    {
     "name": "stderr",
     "output_type": "stream",
     "text": [
      "/Users/mhurben/anaconda3/envs/proy/lib/python3.11/site-packages/tqdm/auto.py:21: TqdmWarning: IProgress not found. Please update jupyter and ipywidgets. See https://ipywidgets.readthedocs.io/en/stable/user_install.html\n",
      "  from .autonotebook import tqdm as notebook_tqdm\n"
     ]
    }
   ],
   "source": [
    "from langchain_core.documents.base import Document\n",
    "from langchain_huggingface.embeddings.huggingface import HuggingFaceEmbeddings\n",
    "from langchain_community.document_loaders.pdf import PyPDFLoader\n",
    "from langchain_text_splitters.character import RecursiveCharacterTextSplitter\n",
    "from langchain_text_splitters.base import TextSplitter\n",
    "from transformers import AutoTokenizer, AutoModelForCausalLM\n",
    "import ollama\n",
    "import pandas as pd"
   ]
  },
  {
   "cell_type": "code",
   "execution_count": 2,
   "metadata": {},
   "outputs": [],
   "source": [
    "dict_pdfs = {\n",
    "    \"nuevos\": [\"../01_data/2022202200133100001545.pdf\", \"../01_data/U0924996.pdf\"]\n",
    "}"
   ]
  },
  {
   "cell_type": "code",
   "execution_count": 3,
   "metadata": {},
   "outputs": [],
   "source": [
    "# Cargar el PDF de forma asíncrona\n",
    "for file_path in dict_pdfs[\"nuevos\"]:\n",
    "    loader = PyPDFLoader(file_path)\n",
    "    pages = []\n",
    "    async for page in loader.alazy_load():\n",
    "        pages.append(page)"
   ]
  },
  {
   "cell_type": "code",
   "execution_count": 4,
   "metadata": {},
   "outputs": [
    {
     "data": {
      "text/plain": [
       "Document(metadata={'producer': 'Antenna House PDF Output Library 6.6.1477 (Linux64)', 'creator': 'eBOE', 'creationdate': '2022-10-18T23:28:16+01:00', 'keywords': 'DECRETO 889/2022 de 18/10/2022;MINISTERIO DE UNIVERSIDADES;BOE-A-2022-17045;BOE 251 de 2022;17045;19/10/2022', 'moddate': '2022-10-18T23:39:43+02:00', 'trapped': '/False', 'subject': 'BOE-A-2022-17045', 'author': 'MINISTERIO DE UNIVERSIDADES', 'title': 'Disposición 17045 del BOE núm. 251 de 2022', 'source': '../01_data/U0924996.pdf', 'total_pages': 28, 'page': 27, 'page_label': '28'}, page_content='Orden ECI/3858/2007, de 27 de diciembre, por la que se establecen los requisitos \\npara la verificación de los títulos universitarios oficiales que habiliten para el ejercicio de \\nlas profesiones de Profesor de Educación Secundaria Obligatoria y Bachillerato, \\nFormación Profesional y Enseñanzas de Idiomas.\\nReal Decreto 775/2011, de 3 de junio, por el que se aprueba el Reglamento de la \\nLey 34/2006, de 30 de octubre, sobre el acceso a las profesiones de Abogado y \\nProcurador de los Tribunales.\\nBOLETÍN OFICIAL DEL ESTADO\\nNúm. 251 Miércoles 19 de octubre de 2022 Sec. I.   Pág. 141889\\ncve: BOE-A-2022-17045\\nVerificable en https://www.boe.es\\nhttps://www.boe.es BOLETÍN OFICIAL DEL ESTADO D. L.: M-1/1958 - ISSN: 0212-033X')"
      ]
     },
     "execution_count": 4,
     "metadata": {},
     "output_type": "execute_result"
    }
   ],
   "source": [
    "page"
   ]
  },
  {
   "cell_type": "code",
   "execution_count": 5,
   "metadata": {},
   "outputs": [],
   "source": [
    "# Crear un text splitter que divida el texto en chunks de hasta 512 tokens\n",
    "# Puedes ajustar el solapamiento (chunk_overlap) según lo requieras para preservar el contexto\n",
    "model_name = \"deepseek-ai/DeepSeek-R1-Distill-Qwen-14B\"\n",
    "\n",
    "# Cargar el tokenizador y el modelo\n",
    "tokenizer = AutoTokenizer.from_pretrained(model_name, trust_remote_code=True)\n",
    "\n",
    "# Función para contar tokens usando el tokenizador de Hugging Face\n",
    "def count_tokens(text: str) -> int:\n",
    "    return len(tokenizer.encode(text, add_special_tokens=False))\n",
    "\n",
    "# Crear un divisor de texto basado en la cuenta de tokens\n",
    "text_splitter = RecursiveCharacterTextSplitter(\n",
    "    chunk_size=512,  # Número máximo de tokens por fragmento\n",
    "    chunk_overlap=50,  # Superposición opcional entre fragmentos\n",
    "    length_function=count_tokens,  # Usa el tokenizador de Hugging Face para contar tokens\n",
    ")"
   ]
  },
  {
   "cell_type": "code",
   "execution_count": 6,
   "metadata": {},
   "outputs": [],
   "source": [
    "# Procesar cada página y dividirla en fragmentos (chunks)\n",
    "chunks = []\n",
    "for page in pages:\n",
    "    # Se divide el contenido de la página en fragmentos de hasta 512 tokens\n",
    "    splitted_texts = text_splitter.split_text(page.page_content) # UNA LISTA DE STRINGS\n",
    "\n",
    "    for chunk_text in splitted_texts:\n",
    "        # Creamos un objeto Document para cada fragmento, manteniendo la metadata (por ejemplo, número de página)\n",
    "        chunks.append(Document(page_content=chunk_text, metadata={\"page\": page.metadata.get(\"page\"), \"file\": page.metadata.get(\"source\").split(\"/\")[-1]}))"
   ]
  },
  {
   "cell_type": "code",
   "execution_count": 7,
   "metadata": {},
   "outputs": [
    {
     "data": {
      "text/plain": [
       "Document(metadata={'page': 7, 'file': 'U0924996.pdf'}, page_content='n.º 1024/2012 relativo a la cooperación administrativa a través del Sistema de \\nInformación del Mercado Interior (Reglamento IMI).\\nArtículo 4.\\u2003Exclusiones.\\n1.\\u2003No podrá concederse la homologación, ni la declaración de equivalencia de \\ntítulos extranjeros, a:\\na)\\u2003Títulos y diplomas propios, especialmente de formación permanente, que \\nimpartan las universidades.\\nb)\\u2003Títulos españoles cuyos planes de estudios se hayan extinguido o que aún no \\nestén implantados en al menos una universidad española.\\nc)\\u2003Niveles académicos distintos de Grado y Máster Universitario. En el caso del \\nnivel académico de Doctorado, se aplicará el procedimiento establecido en la disposición \\nadicional segunda.\\n2.\\u2003No serán objeto de homologación, ni de declaración de equivalencia, los \\nsiguientes títulos extranjeros o estudios expedidos o realizados en el extranjero:\\na)\\u2003En los supuestos de homologación a un título con formación armonizada por \\nnormativa de la Unión Europea, aquellos títulos extranjeros que no cumplan con los \\ncriterios establecidos en dicha normativa.\\nb)\\u2003Los correspondientes a estudios extranjeros realizados, en todo o en parte, en \\nEspaña, cuando los centros carezcan de la preceptiva autorización para impartir tales \\nenseñanzas, o bien cuando las enseñanzas sancionadas por el título extranjero no \\nestuvieran efectivamente implantadas en la universidad o institución de educación \\nsuperior extranjera en el momento en que ésta expidió el título, de acuerdo con lo \\nseñalado en el artículo 86 de la Ley Orgánica 6/2001, de 21 de diciembre, de \\nUniversidades. No obstante, cuando esas circunstancias afecten sólo a parte de los')"
      ]
     },
     "execution_count": 7,
     "metadata": {},
     "output_type": "execute_result"
    }
   ],
   "source": [
    "chunks[20]"
   ]
  },
  {
   "cell_type": "raw",
   "metadata": {
    "vscode": {
     "languageId": "raw"
    }
   },
   "source": [
    "# Generar embeddings para cada fragmento utilizando el modelo HuggingFace (LaBSE)\n",
    "embeddings = HuggingFaceEmbeddings(model_name=\"sentence-transformers/LaBSE\")\n",
    "\n",
    "from langchain.vectorstores import FAISS\n",
    "\n",
    "# Guardar en FAISS\n",
    "vector_store_faiss = FAISS.from_documents(chunks, embeddings)\n",
    "vector_store_faiss.save_local(\"faiss_index\")\n",
    "\n",
    "# Cargar desde FAISS\n",
    "vector_store_faiss_loaded = FAISS.load_local(\"faiss_index\", embeddings)\n",
    "print(\"Vector store cargado desde FAISS.\")"
   ]
  },
  {
   "cell_type": "code",
   "execution_count": 9,
   "metadata": {},
   "outputs": [
    {
     "name": "stderr",
     "output_type": "stream",
     "text": [
      "/var/folders/1w/2mpv0jw11qj_v4tpnrdqv7t40000gn/T/ipykernel_3627/3683623978.py:6: LangChainDeprecationWarning: Since Chroma 0.4.x the manual persistence method is no longer supported as docs are automatically persisted.\n",
      "  vector_store.persist()\n",
      "/var/folders/1w/2mpv0jw11qj_v4tpnrdqv7t40000gn/T/ipykernel_3627/3683623978.py:9: LangChainDeprecationWarning: The class `Chroma` was deprecated in LangChain 0.2.9 and will be removed in 1.0. An updated version of the class exists in the :class:`~langchain-chroma package and should be used instead. To use it run `pip install -U :class:`~langchain-chroma` and import as `from :class:`~langchain_chroma import Chroma``.\n",
      "  vector_store = Chroma(persist_directory=\"chroma_db\", embedding_function=embeddings)\n"
     ]
    }
   ],
   "source": [
    "from langchain.vectorstores import Chroma\n",
    "\n",
    "embeddings = HuggingFaceEmbeddings(model_name=\"sentence-transformers/LaBSE\")\n",
    "\n",
    "vector_store = Chroma.from_documents(chunks, embeddings, persist_directory=\"chroma_db\")\n",
    "vector_store.persist()\n",
    "\n",
    "# Cargar base de datos Chroma\n",
    "vector_store = Chroma(persist_directory=\"chroma_db\", embedding_function=embeddings)"
   ]
  },
  {
   "cell_type": "code",
   "execution_count": 12,
   "metadata": {},
   "outputs": [],
   "source": [
    "# Realizar una búsqueda de similitud para obtener los chunks más relevantes\n",
    "query = \"¿Qué condiciones y limitaciones establece el Real Decreto 1325/2003 para que las personas beneficiarias del régimen de protección temporal sustituyan la documentación exigida por una declaración responsable en el inicio del procedimiento?\"\n",
    "retrieved_docs_with_scores = vector_store.similarity_search_with_score(query, k=5)"
   ]
  },
  {
   "cell_type": "code",
   "execution_count": null,
   "metadata": {},
   "outputs": [],
   "source": []
  },
  {
   "cell_type": "code",
   "execution_count": null,
   "metadata": {},
   "outputs": [
    {
     "data": {
      "text/plain": [
       "0.74338776"
      ]
     },
     "execution_count": 67,
     "metadata": {},
     "output_type": "execute_result"
    }
   ],
   "source": [
    "contexto = retrieved_docs_with_scores[0][0].page_content\n",
    "score = retrieved_docs_with_scores[0][1]"
   ]
  },
  {
   "cell_type": "code",
   "execution_count": null,
   "metadata": {},
   "outputs": [],
   "source": []
  },
  {
   "cell_type": "code",
   "execution_count": 21,
   "metadata": {},
   "outputs": [],
   "source": [
    "prompt = f\"Resuelve este consulta en Español usando la información explicada en el fragmento Contexto: {contexto} Pregunta: {query}\""
   ]
  },
  {
   "cell_type": "code",
   "execution_count": 13,
   "metadata": {},
   "outputs": [
    {
     "name": "stdout",
     "output_type": "stream",
     "text": [
      "<think>\n",
      "Ok, así que tengo que resolver una pregunta sobre un real decreto español, específicamente el Real Decreto 1325/2003. La pregunta es: ¿Qué condiciones y limitaciones establece el Real Decreto 1325/2003 para que las personas beneficiarias del régimen de protección temporal sustituyan la documentación exigida por una declaración responsable en el inicio del procedimiento?\n",
      "\n",
      "Primero, necesito entender bien lo que se me está preguntando. La persona quiere saber cuáles son las condiciones y limitaciones que establece dicho real decreto para que ciertas personas puedan usar una declaración responsable en lugar de la documentación requerida al iniciar un procedimiento.\n",
      "\n",
      "Del contexto proporcionado, veo que el Real Decreto habla de las \"Personas beneficiarias del régimen de protección temporal\". En particular, menciona los artículos 2 y 11 del Reglamento sobre régimen de protección temporal en caso de afluencia masiva de personas desplazadas. También dice que estas personas pueden sustituir la documentación exigida por el artículo 13 del Real Decreto con una declaración responsable, pero solo con carácter excepcional y para el inicio del procedimiento.\n",
      "\n",
      "Ahora, para responder, debo identificar las condiciones y limitaciones específicas. Parece que hay varias cosas importantes:\n",
      "\n",
      "1. **Excepcionalidad**: La sustitución de la documentación por una declaración responsable es excepcional. Es decir, no se aplica en todos los casos, sino solo cuando haya motivos suficientes.\n",
      "\n",
      "2. **Documentación Sustituible**: La documentación que pueden reemplazar está referida en el artículo 13 del Real Decreto actual. No estoy seguro de qué exactamente incluye este artículo, pero supongo que son requisitos administrativos específicos.\n",
      "\n",
      "3. **Declaración Responsable**: Las personas beneficiarias deben presentar una declaración donde manifiesten la veracidad de los datos y su disposición para aportar la documentación completa antes de finalizar el procedimiento.\n",
      "\n",
      "4. **Disposición para Aportar Documentos**: Aunque usan una declaración, están obligadas a presentar la documentación completa durante el procedimiento. Esto implica que no pueden omitir completamente los documentos, sino que solo inicialmente usan la declaración.\n",
      "\n",
      "5. **Régimen de Protección Temporal**: Solo las personas que sean beneficiarias del régimen de protección temporal mencionado en los artículos 2 y 11 del Reglamento pueden hacer esto. Es decir, no cualquier persona, sino aquellos que ya están cubiertos por dicho régimen.\n",
      "\n",
      "6. **Efectos Únicos al Inicio**: La sustitución solo es aplicable al inicio del procedimiento. Probablemente, después de ese punto, se requieren los documentos completos.\n",
      "\n",
      "7. **Cumplimiento de la Ley y Protección Temporal**: Esto probablemente está diseñado para ayudar a personas desplazadas o en situaciones difíciles, donde tal vez no tengan fácil acceso a ciertos documentos, pero sin comprometer la veracidad de la información.\n",
      "\n",
      "También noto que el contexto menciona que las solicitudes inadmitidas se refieren al artículo 4.4 del Real Decreto actual, lo cual quizás está relacionado con las consecuencias si no cumplen con los requisitos o si la declaración responsable no es veraz.\n",
      "\n",
      "Ahora, para estructurar una respuesta clara, debería enumerar cada condición y limitación identificada:\n",
      "\n",
      "- **Excepcionalidad**: Solo en casos excepcionales.\n",
      "- **Documento Sustituible**: Artículo 13 del Real Decreto.\n",
      "- **Declaración Responsable**: Debe ser auténtica y comprometerse a presentar documentos.\n",
      "- **Obligación de Aportar Documentos**: Tienen que hacerlo antes del final del procedimiento.\n",
      "- **Limitado al Inicio del Procedimiento**: Solo al inicio, no durante su desarrollo.\n",
      "- **Régimen Específico**: Solo personas beneficiarias del régimen de protección temporal.\n",
      "\n",
      "También podría mencionar que esto está diseñado para ayudar a personas en situación vulnerable, permitiéndoles iniciar el procedimiento sin los documentos completos inmediatamente, pero sin dejar de cumplir con los requisitos administrativos esenciales.\n",
      "\n",
      "Creo que he cubierto las bases. Tal vez me equivoqué al mencionar \"excepcionalidad\" y \"documentación sustituible\", pero en general, esto debería responder adecuadamente a la pregunta.\n",
      "</think>\n",
      "\n",
      "El Real Decreto 1325/2003 establece condiciones y limitaciones específicas para que las personas beneficiarias del régimen de protección temporal puedan sustituir la documentación exigida por una declaración responsable al inicio del procedimiento. Las mismas son:\n",
      "\n",
      "1. **Excepcionalidad**: La sustitución de la documentación por una declaración responsable es excepcional, aplicándose solo en casos particulares.\n",
      "\n",
      "2. **Documento Sustituible**: Se refiere a los requisitos administrativos mencionados en el artículo 13 del Real Decreto actual.\n",
      "\n",
      "3. **Declaración Responsable**: La persona debe presentar una declaración donde manifieste la veracidad de los datos declarados y se comprometa a aportar la documentación completa antes del final del procedimiento.\n",
      "\n",
      "4. **Obligación de Aportar Documentos**: Aunque inicialmente usan la declaración, están obligadas a presentar toda la documentación requerida durante el desarrollo del procedimiento.\n",
      "\n",
      "5. **Limitación al Inicio del Procedimiento**: La sustitución solo es aplicable al inicio del procedimiento, no extendiéndose a otros momentos.\n",
      "\n",
      "6. **Régimen Específico**: Solo las personas beneficiarias del régimen de protección temporal, según los artículos 2 y 11 del Reglamento, pueden hacer uso de esta disposición.\n",
      "\n",
      "Estas disposiciones buscan facilitar el acceso al procedimiento a personas en situación vulnerable, permitiéndoles iniciar sin documentos completos inicialmente, siempre que cumplan con los requisitos esenciales.\n"
     ]
    }
   ],
   "source": [
    "import ollama\n",
    "\n",
    "response = ollama.chat(model=\"deepseek-r1:14b\", messages=[{\"role\": \"user\", \"content\": prompt}])\n",
    "print(response[\"message\"][\"content\"])"
   ]
  }
 ],
 "metadata": {
  "kernelspec": {
   "display_name": "proy",
   "language": "python",
   "name": "python3"
  },
  "language_info": {
   "codemirror_mode": {
    "name": "ipython",
    "version": 3
   },
   "file_extension": ".py",
   "mimetype": "text/x-python",
   "name": "python",
   "nbconvert_exporter": "python",
   "pygments_lexer": "ipython3",
   "version": "3.11.11"
  }
 },
 "nbformat": 4,
 "nbformat_minor": 2
}
