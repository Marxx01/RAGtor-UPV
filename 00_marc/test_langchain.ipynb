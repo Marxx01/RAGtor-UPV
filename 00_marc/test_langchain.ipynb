{
 "cells": [
  {
   "cell_type": "code",
   "execution_count": 1,
   "metadata": {},
   "outputs": [
    {
     "name": "stderr",
     "output_type": "stream",
     "text": [
      "/Users/mhurben/anaconda3/envs/proy/lib/python3.11/site-packages/tqdm/auto.py:21: TqdmWarning: IProgress not found. Please update jupyter and ipywidgets. See https://ipywidgets.readthedocs.io/en/stable/user_install.html\n",
      "  from .autonotebook import tqdm as notebook_tqdm\n"
     ]
    }
   ],
   "source": [
    "# Importamos los módulos necesarios\n",
    "from langchain_community.document_loaders import PyPDFLoader\n",
    "from langchain.text_splitter import RecursiveCharacterTextSplitter\n",
    "from langchain_huggingface.embeddings import HuggingFaceEmbeddings\n",
    "from langchain_core.vectorstores import InMemoryVectorStore\n",
    "from langchain.schema import Document\n",
    "from transformers import AutoTokenizer, AutoModelForCausalLM\n",
    "from langchain.vectorstores import FAISS"
   ]
  },
  {
   "cell_type": "code",
   "execution_count": 2,
   "metadata": {},
   "outputs": [],
   "source": [
    "# Cargar el PDF de forma asíncrona\n",
    "file_path = \"../01_data/U0924996.pdf\"\n",
    "loader = PyPDFLoader(file_path)\n",
    "pages = []\n",
    "async for page in loader.alazy_load():\n",
    "    pages.append(page)"
   ]
  },
  {
   "cell_type": "code",
   "execution_count": 3,
   "metadata": {},
   "outputs": [],
   "source": [
    "# Crear un text splitter que divida el texto en chunks de hasta 512 tokens\n",
    "# Puedes ajustar el solapamiento (chunk_overlap) según lo requieras para preservar el contexto\n",
    "model_name = \"deepseek-ai/DeepSeek-R1-Distill-Qwen-7B\"\n",
    "\n",
    "# Cargar el tokenizador y el modelo\n",
    "tokenizer = AutoTokenizer.from_pretrained(model_name, trust_remote_code=True)\n",
    "\n",
    "# Función para contar tokens usando el tokenizador de Hugging Face\n",
    "def count_tokens(text: str) -> int:\n",
    "    return len(tokenizer.encode(text, add_special_tokens=False))\n",
    "\n",
    "# Crear un divisor de texto basado en la cuenta de tokens\n",
    "text_splitter = RecursiveCharacterTextSplitter(\n",
    "    chunk_size=256,  # Número máximo de tokens por fragmento\n",
    "    chunk_overlap=50,  # Superposición opcional entre fragmentos\n",
    "    length_function=count_tokens,  # Usa el tokenizador de Hugging Face para contar tokens\n",
    ")\n"
   ]
  },
  {
   "cell_type": "code",
   "execution_count": 4,
   "metadata": {},
   "outputs": [],
   "source": [
    "# Procesar cada página y dividirla en fragmentos (chunks)\n",
    "chunks = []\n",
    "for page in pages:\n",
    "    # Se divide el contenido de la página en fragmentos de hasta 512 tokens\n",
    "    splitted_texts = text_splitter.split_text(page.page_content) # UNA LISTA DE STRINGS\n",
    "\n",
    "    for chunk_text in splitted_texts:\n",
    "        # Creamos un objeto Document para cada fragmento, manteniendo la metadata (por ejemplo, número de página)\n",
    "        chunks.append(Document(page_content=chunk_text, metadata={\"page\": page.metadata.get(\"page\", \"unknown\")}))"
   ]
  },
  {
   "cell_type": "code",
   "execution_count": 5,
   "metadata": {},
   "outputs": [
    {
     "data": {
      "text/plain": [
       "Document(metadata={'page': 0}, page_content='I. DISPOSICIONES GENERALES\\nMINISTERIO DE UNIVERSIDADES\\n17045 Real Decreto 889/2022, de 18 de octubre, por el que se establecen las \\ncondiciones y los procedimientos de homologación, de declaración de \\nequivalencia y de convalidación de enseñanzas universitarias de sistemas \\neducativos extranjeros y por el que se regula el procedimiento para \\nestablecer la correspondencia al nivel del Marco Español de Cualificaciones \\npara la Educación Superior de los títulos universitarios oficiales \\npertenecientes a ordenaciones académicas anteriores.\\nI\\nEl proceso de construcción de Europa en los últimos años ha estado \\nindefectiblemente unido a un crecimiento de la movilidad del estudiantado y del \\nprofesorado universitario, como, igualmente, de las personas trabajadoras y \\nprofesionales. A medida que se han afianzado las dinámicas de globalización estas se')"
      ]
     },
     "execution_count": 5,
     "metadata": {},
     "output_type": "execute_result"
    }
   ],
   "source": [
    "chunks[0]"
   ]
  },
  {
   "cell_type": "code",
   "execution_count": 6,
   "metadata": {},
   "outputs": [
    {
     "name": "stderr",
     "output_type": "stream",
     "text": [
      "huggingface/tokenizers: The current process just got forked, after parallelism has already been used. Disabling parallelism to avoid deadlocks...\n",
      "To disable this warning, you can either:\n",
      "\t- Avoid using `tokenizers` before the fork if possible\n",
      "\t- Explicitly set the environment variable TOKENIZERS_PARALLELISM=(true | false)\n"
     ]
    }
   ],
   "source": [
    "# Generar embeddings para cada fragmento utilizando el modelo HuggingFace (LaBSE)\n",
    "embeddings = HuggingFaceEmbeddings(model_name=\"sentence-transformers/LaBSE\")\n",
    "\n",
    "vector_store_faiss = FAISS.from_documents(chunks, embeddings)\n",
    "vector_store_faiss.save_local(\"../01_data/faiss_index\")\n",
    "\n",
    "vector_store_faiss_loaded = FAISS.load_local(\"../01_data/faiss_index\", embeddings, allow_dangerous_deserialization = True)\n",
    "\n",
    "\n",
    "# Realizar una búsqueda de similitud para obtener los chunks más relevantes\n",
    "query = \"¿Qué condiciones y limitaciones establece el Real Decreto 1325/2003 para que las personas beneficiarias del régimen de protección temporal sustituyan la documentación exigida por una declaración responsable en el inicio del procedimiento?\"\n",
    "retrieved_docs_with_scores = vector_store_faiss_loaded.similarity_search_with_score(query, k=2)"
   ]
  },
  {
   "cell_type": "code",
   "execution_count": 7,
   "metadata": {},
   "outputs": [],
   "source": [
    "contexto = retrieved_docs_with_scores[0][0].page_content\n",
    "score = retrieved_docs_with_scores[0][1]"
   ]
  },
  {
   "cell_type": "code",
   "execution_count": 8,
   "metadata": {},
   "outputs": [
    {
     "name": "stderr",
     "output_type": "stream",
     "text": [
      "Downloading shards: 100%|██████████| 2/2 [13:34<00:00, 407.11s/it]\n",
      "Sliding Window Attention is enabled but not implemented for `sdpa`; unexpected results may be encountered.\n",
      "Loading checkpoint shards: 100%|██████████| 2/2 [01:14<00:00, 37.43s/it]\n"
     ]
    }
   ],
   "source": [
    "from transformers import AutoTokenizer, AutoModelForCausalLM\n",
    "\n",
    "model_name = \"deepseek-ai/DeepSeek-R1-Distill-Qwen-7B\"\n",
    "\n",
    "# Cargar el tokenizador y el modelo\n",
    "tokenizer = AutoTokenizer.from_pretrained(model_name, trust_remote_code=True)\n",
    "model = AutoModelForCausalLM.from_pretrained(model_name, trust_remote_code=True)"
   ]
  },
  {
   "cell_type": "code",
   "execution_count": 12,
   "metadata": {},
   "outputs": [],
   "source": [
    "prompt = f\"Resuelve este consulta en Español usando la información explicada en el fragmento Contexto: {contexto} Pregunta: {query}\""
   ]
  },
  {
   "cell_type": "raw",
   "metadata": {
    "vscode": {
     "languageId": "raw"
    }
   },
   "source": [
    "# Tokenizar la entrada\n",
    "inputs = tokenizer(prompt, return_tensors=\"pt\")\n",
    "\n",
    "model = model.to(\"mps\")\n",
    "inputs = inputs.to(\"mps\")\n",
    "\n",
    "# Generar respuesta\n",
    "outputs = model.generate(**inputs, max_new_tokens=150)\n",
    "print(tokenizer.decode(outputs[0], skip_special_tokens=True))"
   ]
  },
  {
   "cell_type": "code",
   "execution_count": 13,
   "metadata": {},
   "outputs": [
    {
     "name": "stdout",
     "output_type": "stream",
     "text": [
      "<think>\n",
      "Ok, así que tengo que resolver una pregunta sobre un real decreto español, específicamente el Real Decreto 1325/2003. La pregunta es: ¿Qué condiciones y limitaciones establece el Real Decreto 1325/2003 para que las personas beneficiarias del régimen de protección temporal sustituyan la documentación exigida por una declaración responsable en el inicio del procedimiento?\n",
      "\n",
      "Primero, necesito entender bien lo que se me está preguntando. La persona quiere saber cuáles son las condiciones y limitaciones que establece dicho real decreto para que ciertas personas puedan usar una declaración responsable en lugar de la documentación requerida al iniciar un procedimiento.\n",
      "\n",
      "Del contexto proporcionado, veo que el Real Decreto habla de las \"Personas beneficiarias del régimen de protección temporal\". En particular, menciona los artículos 2 y 11 del Reglamento sobre régimen de protección temporal en caso de afluencia masiva de personas desplazadas. También dice que estas personas pueden sustituir la documentación exigida por el artículo 13 del Real Decreto con una declaración responsable, pero solo con carácter excepcional y para el inicio del procedimiento.\n",
      "\n",
      "Ahora, para responder, debo identificar las condiciones y limitaciones específicas. Parece que hay varias cosas importantes:\n",
      "\n",
      "1. **Excepcionalidad**: La sustitución de la documentación por una declaración responsable es excepcional. Es decir, no se aplica en todos los casos, sino solo cuando haya motivos suficientes.\n",
      "\n",
      "2. **Documentación Sustituible**: La documentación que pueden reemplazar está referida en el artículo 13 del Real Decreto actual. No estoy seguro de qué exactamente incluye este artículo, pero supongo que son requisitos administrativos específicos.\n",
      "\n",
      "3. **Declaración Responsable**: Las personas beneficiarias deben presentar una declaración donde manifiesten la veracidad de los datos y su disposición para aportar la documentación completa antes de finalizar el procedimiento.\n",
      "\n",
      "4. **Disposición para Aportar Documentos**: Aunque usan una declaración, están obligadas a presentar la documentación completa durante el procedimiento. Esto implica que no pueden omitir completamente los documentos, sino que solo inicialmente usan la declaración.\n",
      "\n",
      "5. **Régimen de Protección Temporal**: Solo las personas que sean beneficiarias del régimen de protección temporal mencionado en los artículos 2 y 11 del Reglamento pueden hacer esto. Es decir, no cualquier persona, sino aquellos que ya están cubiertos por dicho régimen.\n",
      "\n",
      "6. **Efectos Únicos al Inicio**: La sustitución solo es aplicable al inicio del procedimiento. Probablemente, después de ese punto, se requieren los documentos completos.\n",
      "\n",
      "7. **Cumplimiento de la Ley y Protección Temporal**: Esto probablemente está diseñado para ayudar a personas desplazadas o en situaciones difíciles, donde tal vez no tengan fácil acceso a ciertos documentos, pero sin comprometer la veracidad de la información.\n",
      "\n",
      "También noto que el contexto menciona que las solicitudes inadmitidas se refieren al artículo 4.4 del Real Decreto actual, lo cual quizás está relacionado con las consecuencias si no cumplen con los requisitos o si la declaración responsable no es veraz.\n",
      "\n",
      "Ahora, para estructurar una respuesta clara, debería enumerar cada condición y limitación identificada:\n",
      "\n",
      "- **Excepcionalidad**: Solo en casos excepcionales.\n",
      "- **Documento Sustituible**: Artículo 13 del Real Decreto.\n",
      "- **Declaración Responsable**: Debe ser auténtica y comprometerse a presentar documentos.\n",
      "- **Obligación de Aportar Documentos**: Tienen que hacerlo antes del final del procedimiento.\n",
      "- **Limitado al Inicio del Procedimiento**: Solo al inicio, no durante su desarrollo.\n",
      "- **Régimen Específico**: Solo personas beneficiarias del régimen de protección temporal.\n",
      "\n",
      "También podría mencionar que esto está diseñado para ayudar a personas en situación vulnerable, permitiéndoles iniciar el procedimiento sin los documentos completos inmediatamente, pero sin dejar de cumplir con los requisitos administrativos esenciales.\n",
      "\n",
      "Creo que he cubierto las bases. Tal vez me equivoqué al mencionar \"excepcionalidad\" y \"documentación sustituible\", pero en general, esto debería responder adecuadamente a la pregunta.\n",
      "</think>\n",
      "\n",
      "El Real Decreto 1325/2003 establece condiciones y limitaciones específicas para que las personas beneficiarias del régimen de protección temporal puedan sustituir la documentación exigida por una declaración responsable al inicio del procedimiento. Las mismas son:\n",
      "\n",
      "1. **Excepcionalidad**: La sustitución de la documentación por una declaración responsable es excepcional, aplicándose solo en casos particulares.\n",
      "\n",
      "2. **Documento Sustituible**: Se refiere a los requisitos administrativos mencionados en el artículo 13 del Real Decreto actual.\n",
      "\n",
      "3. **Declaración Responsable**: La persona debe presentar una declaración donde manifieste la veracidad de los datos declarados y se comprometa a aportar la documentación completa antes del final del procedimiento.\n",
      "\n",
      "4. **Obligación de Aportar Documentos**: Aunque inicialmente usan la declaración, están obligadas a presentar toda la documentación requerida durante el desarrollo del procedimiento.\n",
      "\n",
      "5. **Limitación al Inicio del Procedimiento**: La sustitución solo es aplicable al inicio del procedimiento, no extendiéndose a otros momentos.\n",
      "\n",
      "6. **Régimen Específico**: Solo las personas beneficiarias del régimen de protección temporal, según los artículos 2 y 11 del Reglamento, pueden hacer uso de esta disposición.\n",
      "\n",
      "Estas disposiciones buscan facilitar el acceso al procedimiento a personas en situación vulnerable, permitiéndoles iniciar sin documentos completos inicialmente, siempre que cumplan con los requisitos esenciales.\n"
     ]
    }
   ],
   "source": [
    "import ollama\n",
    "\n",
    "response = ollama.chat(model=\"deepseek-r1:14b\", messages=[{\"role\": \"user\", \"content\": prompt}])\n",
    "print(response[\"message\"][\"content\"])"
   ]
  },
  {
   "cell_type": "code",
   "execution_count": null,
   "metadata": {},
   "outputs": [],
   "source": []
  }
 ],
 "metadata": {
  "kernelspec": {
   "display_name": "proy",
   "language": "python",
   "name": "python3"
  },
  "language_info": {
   "codemirror_mode": {
    "name": "ipython",
    "version": 3
   },
   "file_extension": ".py",
   "mimetype": "text/x-python",
   "name": "python",
   "nbconvert_exporter": "python",
   "pygments_lexer": "ipython3",
   "version": "3.11.11"
  }
 },
 "nbformat": 4,
 "nbformat_minor": 2
}
