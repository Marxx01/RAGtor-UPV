{
 "cells": [
  {
   "cell_type": "code",
   "execution_count": 8,
   "metadata": {},
   "outputs": [],
   "source": [
    "import database_sql as db\n",
    "import sqlite3\n",
    "from langchain.document_loaders import PyPDFLoader\n",
    "from langchain.text_splitter import RecursiveCharacterTextSplitter\n",
    "from langchain.embeddings import SentenceTransformerEmbeddings\n",
    "from langchain.vectorstores import FAISS\n",
    "import os"
   ]
  },
  {
   "cell_type": "code",
   "execution_count": 2,
   "metadata": {},
   "outputs": [],
   "source": [
    "dict_pdfs = {\n",
    "    \"nuevos\": [\"../01_data/2022202200133100001545.pdf\", \"../01_data/U0924996.pdf\"]\n",
    "}"
   ]
  },
  {
   "cell_type": "code",
   "execution_count": null,
   "metadata": {},
   "outputs": [
    {
     "name": "stdout",
     "output_type": "stream",
     "text": [
      "[Document(metadata={'producer': 'iText® 5.1.2 ©2000-2011 1T3XT BVBA', 'creator': 'Microsoft® Word 2010', 'creationdate': '2022-05-06T12:29:33+02:00', 'author': 'adm', 'moddate': '2025-03-08T12:45:26+01:00', 'source': '../01_data/BBDD_Normativa_UPV/2022202200133100001545.pdf', 'total_pages': 8, 'page': 0, 'page_label': '1'}, page_content='Núm. 074/2022 06/05/2022 2 \\n \\n \\nEditor: Secretaria General / UPV ∙ D.L.: V‐5092‐2006 ∙ ISSN: 1887‐2298 ∙ www.upv.es/secgen \\nANEXO \\n \\nMODIFICACIÓN CALENDARIO  ACADÉMICO UNIVERSITARIO DEL CURSO 2022/2023 \\n \\nAprobado por el Consejo de Gobierno en sesión de 28 de abril de 2022 \\n \\nEl calendario académico del curso 2022-2023 fue aprobado por Consejo de Gobierno de 23 de \\ndiciembre de 2021. \\n \\nAdvertido error material en la relación de festivos de ámbito nacional, en la que se ha omitido \\nel festivo correspondiente al 1 de mayo, día del Trabajo, procede la rectificación de la misma \\npara su inclusión. \\n \\nPor otra parte, la Normativa de Preinscripción y Admisión a Máster Universitario \\nrecientemente aprobada en Consejo de Gobierno de 3 de febrero de 2022, señala la fecha de \\nconsideración de condiciones académicas correspondiente a la Fase 3 de preinscripción como \\nfecha límite para acreditar estar en posesión del correspondiente título de grado o bien de \\ntener pendientes de superar en dicho grado el TFG y como máximo hasta 9 créditos. En caso \\nde que en esta fecha el alumnado preinscrito y/o matriculado con carácter provisional tenga \\nmás de 9 créditos pendientes, excluido el TFG, no podrá continuar matriculado en los estudios \\nde máster. En consecuencia, procede modificar la nota a pie de página (nota 7) del texto del \\ncalendario que establecía el 31 de diciembre de 2022 como fecha límite para acreditar esta \\ncircunstancia académica. \\n \\nTambién en relación con el proceso de preinscripción a máster y con el objetivo de facilitar el \\ncontacto del alumnado con la UPV, se ha considerado conveniente ampliar el período de \\npresentación de solicitudes de la Fase 3 (másteres con plazas vacantes) durante los primeros y \\núltimos días del mes de agosto. En consecuencia, se procede a modificar este período. \\n \\nAdicionalmente, la Normativa de Régimen Académico y Evaluación del Alumnado, aprobada \\ntambién en Consejo de Gobierno de 3 de febrero de 2022, señala que cada curso académico \\nse habilitarán tres períodos para solicitar concurrir a los actos extraordinarios de evaluación, \\nen los que el alumnado podrá solicitar indistintamente concurrir a actos extraordinarios de \\nevaluación de asignaturas del primer semestre, segundo semestre o anuales. En dicha norma \\nse señala que el calendario académico de cada curso establecerá las fechas de realización de \\nlos actos de evaluación para cada período de exámenes extraordinarios de evaluación, así \\ncomo las fechas límite de entrega de actas para cada período. En aplicación de esta norma, \\nresulta necesario modificar el calendario académico para establecer los plazos \\ncorrespondientes a cada período. Para ello se ha considerado oportuno dotar, en el segundo \\nperíodo y para los estudios de grado, de la máxima flexibilidad a los centros para organizar \\neste proceso, fijando exclusivamente la fecha máxima de entrega de actas. Esta fecha límite se \\nfija para garantizar que el alumnado que se preinscriba a un máster en la UPV dispondrá de las \\ncalificaciones de los actos extraordinarios de evaluación a los que concurra en este segundo \\nperíodo en la fecha de consideración de condiciones académicas de la fase 1 de preinscripción \\na máster. \\n \\nId: UPV-GENFirma-110318 Cod. Verificació: P8EQ4CAE97BPP6C4'), Document(metadata={'producer': 'iText® 5.1.2 ©2000-2011 1T3XT BVBA', 'creator': 'Microsoft® Word 2010', 'creationdate': '2022-05-06T12:29:33+02:00', 'author': 'adm', 'moddate': '2025-03-08T12:45:26+01:00', 'source': '../01_data/BBDD_Normativa_UPV/2022202200133100001545.pdf', 'total_pages': 8, 'page': 1, 'page_label': '2'}, page_content='Núm. 074/2022 06/05/2022 3 \\n \\n \\nEditor: Secretaria General / UPV ∙ D.L.: V‐5092‐2006 ∙ ISSN: 1887‐2298 ∙ www.upv.es/secgen \\nEn relación a las fechas de matrícula del alumnado de nuevo ingreso en títulos de másteres de \\nla Universitat Politècnica de València, no se han consignado en este calendario las fechas \\ncorrespondientes a la matrícula del alumnado admitido en los sucesivos procesos de \\nreasignación de vacantes, a diferencia de los estudios de grado, en que sí se han detallado \\nestas fechas. En consecuencia, se incorporan al calendario las fechas previstas para estudios \\nde máster y, para facilitar la comprensión del apartado, se modifica la redacción de este \\nmismo apartado correspondiente a los estudios de grado. \\n \\nPor todo lo expuesto, se propone la modificación del calendario académico del curso 2022- \\n2023, en los siguientes términos: \\n \\n \\n \\nDonde dice: \\n \\n□ Fecha(s) matrícula por reasignación de vacantes: \\n \\no En los estudios en que existan vacantes y cuenten con lista de espera: \\n□ Adjudicación 21 de julio: desde las 9:00 horas del día 22 \\nde julio hasta las 23:59 del 25 de julio. \\n□ Adjudicación 26 de julio: desde las 9:00 horas del día 27 \\nde julio hasta las 23:59 del 28 de julio. \\n□ Adjudicación 5 de septiembre: desde las 9:00 horas del día \\n6 de septiembre hasta el 7 de septiembre. \\n \\nFinalizados los llamamientos centralizados, las Escuelas y Facultades podrán realizar \\nllamamientos de las listas de espera de sus títulos de grado para cubrir nuevas vacantes, con \\nel visto bueno del Vicerrectorado de Estudiantes y Emprendimiento. \\n \\nDebe decir: \\n \\n□ Fecha(s) matrícula por reasignación de vacantes: \\n \\no En los estudios en que existan vacantes y cuenten con lista de espera: \\n□ Adjudicación 21 de julio: matrícula desde las 9:00 horas del \\ndía 22 de julio hasta las 23:59 del 25 de julio. \\n \\n□ Adjudicación 26 de julio: matrícula desde las 9:00 horas del \\ndía 27 de julio hasta las 23:59 del 28 de julio. \\n□ Adjudicación 5 de septiembre: matrícula desde las 9:00 \\nhoras del día 6 de septiembre hasta las 23:59 del 7 de septiembre. \\n \\nFinalizados los llamamientos centralizados, las Escuelas y Facultades podrán realizar \\nllamamientos de las listas de espera de sus títulos de grado para cubrir nuevas vacantes, con \\nel visto bueno del Vicerrectorado de Estudiantes y Emprendimiento. \\nEn el punto “2.6.1.1. ESTUDIANTES DE NUEVO INGRESO” (Fechas de matrícula por reasignación \\nde vacantes en estudios de Grado) \\nId: UPV-GENFirma-110318 Cod. Verificació: P8EQ4CAE97BPP6C4'), Document(metadata={'producer': 'iText® 5.1.2 ©2000-2011 1T3XT BVBA', 'creator': 'Microsoft® Word 2010', 'creationdate': '2022-05-06T12:29:33+02:00', 'author': 'adm', 'moddate': '2025-03-08T12:45:26+01:00', 'source': '../01_data/BBDD_Normativa_UPV/2022202200133100001545.pdf', 'total_pages': 8, 'page': 2, 'page_label': '3'}, page_content='Núm. 074/2022 06/05/2022 4 \\n \\n \\nEditor: Secretaria General / UPV ∙ D.L.: V‐5092‐2006 ∙ ISSN: 1887‐2298 ∙ www.upv.es/secgen \\n En el punto “2.10.2. ACTO EXTRAORDINARIO DE EVALUACIÓN” (Grado)   \\n \\nDonde dice: \\n \\nExclusivamente para estudiantes que cumplen con los requisitos señalados en la normativa \\nreguladora. \\n \\n2.10.2.1. PRESENTACIÓN DE SOLICITUDES \\n□ Para asignaturas del primer semestre: del 20 al 26 de febrero de 2023. \\n□ Para asignaturas del primer semestre, del segundo semestre o anuales, o \\ncualquier combinación de ellas: del 17 al 23 de julio de 2023. \\n□ Para asignaturas del primer y/o del segundo semestre del último curso en \\ntitulaciones que hayan concentrado la docencia correspondiente al segundo semestre del \\núltimo curso, el centro podrá habilitar plazos de solicitud adicionales posteriores a la fecha \\nlímite de entrega de actas que haya establecido para las asignaturas del segundo \\nsemestre de último curso. \\n \\n2.10.2.2. RESOLUCIÓN DEL CENTRO \\n□ Para asignaturas del primer semestre: hasta el 22 de marzo de 2023. \\n□ Para asignaturas del primer semestre, del segundo semestre o anuales, o \\ncualquier combinación de ellas: hasta el 31 de julio de 2023. \\n□ Para asignaturas del primer y/o del segundo semestre del último curso en \\ntitulaciones que hayan concentrado la docencia correspondiente al segundo semestre del \\núltimo curso, se resolverá en un plazo no superior a quince días hábiles a contar desde el día \\nsiguiente a la finalización del plazo de solicitud adicional habilitado, en su caso, por el centro. \\n \\nDebe decir: \\n \\nExclusivamente para estudiantes que cumplen con los requisitos señalados en la normativa \\nreguladora. \\nEn todos los períodos, el alumnado podrá solicitar actos extraordinarios de evaluación para \\nasignaturas del primer semestre, segundo semestre y anuales. \\n \\nPrimer período: \\n□ Presentación de solicitudes: del 13 al 19 de octubre de 2022. \\n□ Fecha de resolución: hasta el 26 de octubre de 2022. \\n□ Período de exámenes: del 7 al 25 de noviembre de 2022. \\n□ Fecha máxima de entrega de actas: hasta el 5 de diciembre de 2022. \\n \\nSegundo período: \\n□ Presentación de solicitudes: a determinar por cada Escuela o Facultad. \\n□ Fecha de resolución: a determinar por cada Escuela o Facultad. \\n□ Período de exámenes: a determinar por cada Escuela o Facultad. \\n□ Fecha máxima de entrega de actas: hasta el 29 de mayo de 2023. \\n \\nId: UPV-GENFirma-110318 Cod. Verificació: P8EQ4CAE97BPP6C4'), Document(metadata={'producer': 'iText® 5.1.2 ©2000-2011 1T3XT BVBA', 'creator': 'Microsoft® Word 2010', 'creationdate': '2022-05-06T12:29:33+02:00', 'author': 'adm', 'moddate': '2025-03-08T12:45:26+01:00', 'source': '../01_data/BBDD_Normativa_UPV/2022202200133100001545.pdf', 'total_pages': 8, 'page': 3, 'page_label': '4'}, page_content='Núm. 074/2022 06/05/2022 5 \\n \\n \\nEditor: Secretaria General / UPV ∙ D.L.: V‐5092‐2006 ∙ ISSN: 1887‐2298 ∙ www.upv.es/secgen \\nTercer período: \\n□ Presentación de solicitudes: del 14 al 18 de julio de 2023. \\n□ Fecha de resolución: hasta el 25 de julio de 2023. \\n□ Período de exámenes: del 27 de julio al 6 de septiembre de 2023 (excepto agosto). \\n□ Fecha máxima de entrega de actas: hasta el 11 de septiembre de 2023. \\n \\nPor parte de las Escuelas y Facultades que hayan anticipado la fecha de entrega de actas de \\nasignaturas de segundo semestre de cuarto curso de grado, podrá habilitarse un período \\nadicional, con objeto de facilitar al alumnado la finalización de sus estudios. \\n \\n En el punto “2.11. PRESENTACIÓN ACTAS” (Grado)   \\n \\nDonde dice: \\n \\n[…] \\nLa fecha límite de entrega de las actas de los actos extraordinarios de evaluación será el 11 de \\nseptiembre de 2023. \\n \\nDebe decir: \\n \\n[…] \\n \\nLa fecha límite de entrega de las actas de los actos extraordinarios de evaluación será la \\nestablecida para cada período en el apartado 2.10.2. \\n \\n En el punto “3.1. PREINSCRIPCIÓN” (Máster)   \\n \\nDonde dice: \\n \\n3.1 PREINSCRIPCIÓN7 \\n \\n7 Los estudiantes interesados podrán formalizar la preinscripción aunque estén pendientes del \\nTFG, así como de calificaciones finales de asignaturas/créditos. Los estudiantes que no han \\ncompletado sus estudios de acceso y estén matriculados de todos los créditos pendientes \\npara finalizar el grado (a excepción del TFG) podrán ser admitidos teniendo en cuenta que, en \\ntodo caso, tendrán preferencia para su admisión quienes acrediten que han finalizado los \\nestudios requeridos para el acceso al máster en la fecha de consideración de las condiciones \\nacadémicas. La admisión estará condicionada a la acreditación antes del 31 de diciembre de \\n2022 de estar en posesión del correspondiente título de grado o bien de tener pendientes de \\nsuperar el TFG y como máximo hasta 9 créditos ECTS. En ningún caso se podrá obtener el \\ntítulo de máster si previamente no se ha obtenido el título de grado. \\n \\n \\n \\n \\n \\nId: UPV-GENFirma-110318 Cod. Verificació: P8EQ4CAE97BPP6C4'), Document(metadata={'producer': 'iText® 5.1.2 ©2000-2011 1T3XT BVBA', 'creator': 'Microsoft® Word 2010', 'creationdate': '2022-05-06T12:29:33+02:00', 'author': 'adm', 'moddate': '2025-03-08T12:45:26+01:00', 'source': '../01_data/BBDD_Normativa_UPV/2022202200133100001545.pdf', 'total_pages': 8, 'page': 4, 'page_label': '5'}, page_content='Núm. 074/2022 06/05/2022 6 \\n \\n \\nEditor: Secretaria General / UPV ∙ D.L.: V‐5092‐2006 ∙ ISSN: 1887‐2298 ∙ www.upv.es/secgen \\nDebe decir: \\n \\n3.1 PREINSCRIPCIÓN7 \\n \\n7 Los estudiantes interesados podrán formalizar la preinscripción aunque estén pendientes del \\nTFG, así como de calificaciones finales de asignaturas/créditos. Los estudiantes que no han \\ncompletado sus estudios de acceso y estén matriculados de todos los créditos pendientes \\npara finalizar el grado (a excepción del TFG) podrán ser admitidos teniendo en cuenta que, en \\ntodo caso, tendrán preferencia para su admisión quienes acrediten que han finalizado los \\nestudios requeridos para el acceso al máster en la fecha de consideración de las condiciones \\nacadémicas de cada fase. La admisión estará condicionada a la acreditación en la fecha de \\nconsideración de las condiciones académicas correspondientes a la Fase 3 de preinscripción \\nde estar en posesión del correspondiente título de grado o bien de tener pendientes de \\nsuperar el TFG y como máximo hasta 9 créditos ECTS. En ningún caso se podrá obtener el \\ntítulo de máster si previamente no se ha obtenido el título de grado. \\n \\n En el punto “3.1.4. FASE 3” (Preinscripción Máster)   \\n \\nDonde dice: \\n \\n□ Presentación de solicitudes: dos períodos diferenciados: \\n \\no del 28 al 29 de julio de 2022. \\no del 1 al 9 de septiembre de 2022. \\n \\nDebe decir: \\n \\n□ Presentación de solicitudes: dos períodos diferenciados: \\no del 29 de julio al 5 de agosto de 2022. \\no del 29 de agosto al 8 de septiembre de 2022. \\n \\n \\n En el punto “3.6.1.1. ESTUDIANTES DE NUEVO INGRESO” (Fechas de matrícula Máster)   \\n \\nDonde dice: \\n \\n3.6.1.1. ESTUDIANTES DE NUEVO INGRESO \\n□ Admitidos en Fase 1 de preinscripción: 9 y 10 de junio de 2022. \\n□ Admitidos en Fase 2 de preinscripción: 25 y 26 de julio de 2022. \\n□ Admitidos en Fase 3 de preinscripción: 16 y 19 de septiembre de 2022. \\n \\nDebe decir: \\n \\n3.6.1.1. ESTUDIANTES DE NUEVO INGRESO \\n□ Admitidos en Fase 1 de preinscripción: 9 y 10 de junio de 2022. \\nId: UPV-GENFirma-110318 Cod. Verificació: P8EQ4CAE97BPP6C4'), Document(metadata={'producer': 'iText® 5.1.2 ©2000-2011 1T3XT BVBA', 'creator': 'Microsoft® Word 2010', 'creationdate': '2022-05-06T12:29:33+02:00', 'author': 'adm', 'moddate': '2025-03-08T12:45:26+01:00', 'source': '../01_data/BBDD_Normativa_UPV/2022202200133100001545.pdf', 'total_pages': 8, 'page': 5, 'page_label': '6'}, page_content='Núm. 074/2022 06/05/2022 7 \\n \\n \\nEditor: Secretaria General / UPV ∙ D.L.: V‐5092‐2006 ∙ ISSN: 1887‐2298 ∙ www.upv.es/secgen \\n□ Admitidos en Fase 2 de preinscripción: 25 y 26 de julio de 2022. \\n□ Admitidos en Fase 3 de preinscripción: 16 y 19 de septiembre de 2022. \\n \\nFecha(s) matrícula por reasignación de vacantes: \\n \\nEn los estudios en que existan vacantes y cuenten con lista de espera: \\n \\n□ Adjudicación 13 de junio: matrícula el 14 de junio desde las 9:00 horas hasta las \\n23:59 horas. \\n□ Adjudicación 27 de julio: matrícula el 28 de julio desde las 9:00 horas hasta las \\n23:59 horas. \\n□ Adjudicación 20 de septiembre: matrícula el 21 de septiembre desde las 9:00 horas \\nhasta las 23:59 horas. \\n \\nSi resultara  necesario para cubrir plazas vacantes, se podrán realizar otros llamamientos \\ncentralizados adicionales. \\n \\nFinalizados los llamamientos centralizados, las ERT’s (centros de forma autónoma y resto de \\nERT’s a través de la Unidad de Máster) podrán realizar llamamientos de las listas de espera de \\nsus títulos de máster para cubrir nuevas vacantes, con el visto bueno del Vicerrectorado de \\nEstudiantes y Emprendimiento. \\n \\n En el punto “3.10.2. ACTO EXTRAORDINARIO DE EVALUACIÓN” (Máster)   \\n \\nDonde dice: \\n \\nExclusivamente para estudiantes que cumplan los requisitos establecidos en la normativa \\nreguladora. \\n3.10.3. PRESENTACIÓN DE SOLICITUDES \\n□ Asignaturas del primer semestre: del 27 de febrero al 5 de marzo de 2023. \\n□ Para asignaturas del primer semestre, del segundo semestre o anuales, o \\ncualquier combinación de ellas: del 24 al 30 de julio de 2023. \\n \\n3.10.4. RESOLUCIÓN DE LA ERT \\n□ Para asignaturas del primer semestre: hasta el 29 de marzo de 2023. \\n□ Para asignaturas del primer semestre, del segundo semestre o anuales, o \\ncualquier combinación de ellas: hasta el 20 de septiembre de 2023. \\n \\nDebe decir: \\n \\nExclusivamente para estudiantes que cumplen con los requisitos señalados en la normativa \\nreguladora. \\n \\nEn todos los períodos, el alumnado podrá solicitar actos extraordinarios de evaluación para \\nasignaturas del primer semestre, segundo semestre y anuales. \\n \\nId: UPV-GENFirma-110318 Cod. Verificació: P8EQ4CAE97BPP6C4'), Document(metadata={'producer': 'iText® 5.1.2 ©2000-2011 1T3XT BVBA', 'creator': 'Microsoft® Word 2010', 'creationdate': '2022-05-06T12:29:33+02:00', 'author': 'adm', 'moddate': '2025-03-08T12:45:26+01:00', 'source': '../01_data/BBDD_Normativa_UPV/2022202200133100001545.pdf', 'total_pages': 8, 'page': 6, 'page_label': '7'}, page_content='Núm. 074/2022 06/05/2022 8 \\n \\n \\nEditor: Secretaria General / UPV ∙ D.L.: V‐5092‐2006 ∙ ISSN: 1887‐2298 ∙ www.upv.es/secgen \\nPrimer período: \\n□ Presentación de solicitudes: del 13 al 19 de octubre de 2022. \\n□ Fecha de resolución: hasta el 26 de octubre de 2022. \\n□ Período de exámenes: del 7 al 25 de noviembre de 2022. \\n□ Fecha máxima de entrega de actas: hasta el 5 de diciembre de 2022. \\n \\nSegundo período: \\n□ Presentación de solicitudes: del 27 de febrero al 3 de marzo de 2023. \\n□ Fecha de resolución: hasta el 15 de marzo de 2023. \\n□ Período de exámenes: del 3 de abril al 12 de mayo de 2023. \\n□ Fecha máxima de entrega de actas: hasta el 29 de mayo de 2023. \\n \\nTercer período: \\n□ Presentación de solicitudes: del 24 al 26 de julio de 2023. \\n□ Fecha de resolución: hasta el 7 de septiembre de 2023. \\n□ Período de exámenes: del 11 al 20 de septiembre de 2023. \\n□ Fecha máxima de entrega de actas: hasta el 26 de septiembre de 2023. \\n \\n En el punto “3.11. PRESENTACIÓN ACTAS” (Máster)   \\n \\nDonde dice: \\n \\n[…] \\nLa fecha límite de entrega de las actas de los actos extraordinarios de evaluación será el 25 de \\nseptiembre de 2023. \\n \\nDebe decir: \\n \\n[…] \\nLa fecha límite de entrega de las actas de los actos extraordinarios de evaluación será la \\nestablecida para cada período en el apartado 3.10.2. \\n \\n En el punto “6.1.EN EL ÁMBITO NACIONAL” (Días festivos)   \\n \\nDonde dice: \\n \\n□ 12 de octubre de 2022: día de la Hispanidad. \\n□ 1 de noviembre de 2022: día de Todos los Santos. \\n□ 6 de diciembre de 2022: día de la Constitución. \\n□ 8 de diciembre de 2022: día de la Inmaculada Concepción. \\n \\nDebe decir: \\n \\n□ 12 de octubre de 2022: día de la Hispanidad. \\n□ 1 de noviembre de 2022: día de Todos los Santos. \\nId: UPV-GENFirma-110318 Cod. Verificació: P8EQ4CAE97BPP6C4'), Document(metadata={'producer': 'iText® 5.1.2 ©2000-2011 1T3XT BVBA', 'creator': 'Microsoft® Word 2010', 'creationdate': '2022-05-06T12:29:33+02:00', 'author': 'adm', 'moddate': '2025-03-08T12:45:26+01:00', 'source': '../01_data/BBDD_Normativa_UPV/2022202200133100001545.pdf', 'total_pages': 8, 'page': 7, 'page_label': '8'}, page_content='Núm. 074/2022 06/05/2022 9 \\n \\n \\nEditor: Secretaria General / UPV ∙ D.L.: V‐5092‐2006 ∙ ISSN: 1887‐2298 ∙ www.upv.es/secgen \\n□ 6 de diciembre de 2022: día de la Constitución. \\n□ 8 de diciembre de 2022: día de la Inmaculada Concepción. \\n□ 1 de mayo de 2023: día internacional del Trabajo \\n \\nPor último, se propone habilitar al Vicerrectorado competente en materia de alumnado a \\nrealizar modificaciones en el calendario académico del curso 2022/2023 en caso de necesidad, \\nfiestas sobrevenidas o por cualquier otra circunstancia que pudiera surgir. Dichas \\nmodificaciones deberán ser informadas posteriormente al Consejo de Gobierno para su \\nratificación. \\n \\nId: UPV-GENFirma-110318 Cod. Verificació: P8EQ4CAE97BPP6C4')]\n",
      "1 12121_0\n",
      "1 12121_1\n",
      "1 12121_2\n",
      "1 12121_3\n",
      "2 12121_4\n",
      "2 12121_5\n",
      "2 12121_6\n",
      "3 12121_7\n",
      "3 12121_8\n",
      "3 12121_9\n",
      "4 12121_10\n",
      "4 12121_11\n",
      "4 12121_12\n",
      "5 12121_13\n",
      "5 12121_14\n",
      "5 12121_15\n",
      "6 12121_16\n",
      "6 12121_17\n",
      "6 12121_18\n",
      "7 12121_19\n",
      "7 12121_20\n",
      "8 12121_21\n"
     ]
    },
    {
     "ename": "ValueError",
     "evalue": "File path ../01_data/U0924996.pdf is not a valid file or url",
     "output_type": "error",
     "traceback": [
      "\u001b[0;31m---------------------------------------------------------------------------\u001b[0m",
      "\u001b[0;31mValueError\u001b[0m                                Traceback (most recent call last)",
      "Cell \u001b[0;32mIn[13], line 9\u001b[0m\n\u001b[1;32m      6\u001b[0m \u001b[38;5;28mid\u001b[39m \u001b[38;5;241m=\u001b[39m pdf_info[\u001b[38;5;241m1\u001b[39m]\n\u001b[1;32m      8\u001b[0m \u001b[38;5;66;03m# Load\u001b[39;00m\n\u001b[0;32m----> 9\u001b[0m loader \u001b[38;5;241m=\u001b[39m PyPDFLoader(path)\n\u001b[1;32m     10\u001b[0m documentos \u001b[38;5;241m=\u001b[39m loader\u001b[38;5;241m.\u001b[39mload()\n\u001b[1;32m     11\u001b[0m \u001b[38;5;28mprint\u001b[39m(documentos)\n",
      "File \u001b[0;32m~/anaconda3/envs/proy/lib/python3.11/site-packages/langchain_community/document_loaders/pdf.py:281\u001b[0m, in \u001b[0;36mPyPDFLoader.__init__\u001b[0;34m(self, file_path, password, headers, extract_images, mode, images_parser, images_inner_format, pages_delimiter, extraction_mode, extraction_kwargs)\u001b[0m\n\u001b[1;32m    238\u001b[0m \u001b[38;5;28;01mdef\u001b[39;00m \u001b[38;5;21m__init__\u001b[39m(\n\u001b[1;32m    239\u001b[0m     \u001b[38;5;28mself\u001b[39m,\n\u001b[1;32m    240\u001b[0m     file_path: Union[\u001b[38;5;28mstr\u001b[39m, PurePath],\n\u001b[0;32m   (...)\u001b[0m\n\u001b[1;32m    250\u001b[0m     extraction_kwargs: Optional[\u001b[38;5;28mdict\u001b[39m] \u001b[38;5;241m=\u001b[39m \u001b[38;5;28;01mNone\u001b[39;00m,\n\u001b[1;32m    251\u001b[0m ) \u001b[38;5;241m-\u001b[39m\u001b[38;5;241m>\u001b[39m \u001b[38;5;28;01mNone\u001b[39;00m:\n\u001b[1;32m    252\u001b[0m \u001b[38;5;250m    \u001b[39m\u001b[38;5;124;03m\"\"\"Initialize with a file path.\u001b[39;00m\n\u001b[1;32m    253\u001b[0m \n\u001b[1;32m    254\u001b[0m \u001b[38;5;124;03m    Args:\u001b[39;00m\n\u001b[0;32m   (...)\u001b[0m\n\u001b[1;32m    279\u001b[0m \u001b[38;5;124;03m        `aload` methods to retrieve parsed documents with content and metadata.\u001b[39;00m\n\u001b[1;32m    280\u001b[0m \u001b[38;5;124;03m    \"\"\"\u001b[39;00m\n\u001b[0;32m--> 281\u001b[0m     \u001b[38;5;28msuper\u001b[39m()\u001b[38;5;241m.\u001b[39m\u001b[38;5;21m__init__\u001b[39m(file_path, headers\u001b[38;5;241m=\u001b[39mheaders)\n\u001b[1;32m    282\u001b[0m     \u001b[38;5;28mself\u001b[39m\u001b[38;5;241m.\u001b[39mparser \u001b[38;5;241m=\u001b[39m PyPDFParser(\n\u001b[1;32m    283\u001b[0m         password\u001b[38;5;241m=\u001b[39mpassword,\n\u001b[1;32m    284\u001b[0m         mode\u001b[38;5;241m=\u001b[39mmode,\n\u001b[0;32m   (...)\u001b[0m\n\u001b[1;32m    290\u001b[0m         extraction_kwargs\u001b[38;5;241m=\u001b[39mextraction_kwargs,\n\u001b[1;32m    291\u001b[0m     )\n",
      "File \u001b[0;32m~/anaconda3/envs/proy/lib/python3.11/site-packages/langchain_community/document_loaders/pdf.py:140\u001b[0m, in \u001b[0;36mBasePDFLoader.__init__\u001b[0;34m(self, file_path, headers)\u001b[0m\n\u001b[1;32m    138\u001b[0m         \u001b[38;5;28mself\u001b[39m\u001b[38;5;241m.\u001b[39mfile_path \u001b[38;5;241m=\u001b[39m \u001b[38;5;28mstr\u001b[39m(temp_pdf)\n\u001b[1;32m    139\u001b[0m \u001b[38;5;28;01melif\u001b[39;00m \u001b[38;5;129;01mnot\u001b[39;00m os\u001b[38;5;241m.\u001b[39mpath\u001b[38;5;241m.\u001b[39misfile(\u001b[38;5;28mself\u001b[39m\u001b[38;5;241m.\u001b[39mfile_path):\n\u001b[0;32m--> 140\u001b[0m     \u001b[38;5;28;01mraise\u001b[39;00m \u001b[38;5;167;01mValueError\u001b[39;00m(\u001b[38;5;124m\"\u001b[39m\u001b[38;5;124mFile path \u001b[39m\u001b[38;5;132;01m%s\u001b[39;00m\u001b[38;5;124m is not a valid file or url\u001b[39m\u001b[38;5;124m\"\u001b[39m \u001b[38;5;241m%\u001b[39m \u001b[38;5;28mself\u001b[39m\u001b[38;5;241m.\u001b[39mfile_path)\n",
      "\u001b[0;31mValueError\u001b[0m: File path ../01_data/U0924996.pdf is not a valid file or url"
     ]
    }
   ],
   "source": [
    "pdfs = [(\"../01_data/BBDD_Normativa_UPV/2022202200133100001545.pdf\", 12121), (\"../01_data/U0924996.pdf\", 232)]\n",
    "\n",
    "for pdf_info in pdfs:\n",
    "        # First element is the path, second is the name\n",
    "        path = pdf_info[0]\n",
    "        id = pdf_info[1]\n",
    "\n",
    "        # Load\n",
    "        loader = PyPDFLoader(path)\n",
    "        documentos = loader.load()\n",
    "\n",
    "        # Split the documents into chunks of text\n",
    "        text_splitter = RecursiveCharacterTextSplitter(chunk_size=1000)\n",
    "        documentos_divididos = text_splitter.split_documents(documentos)\n",
    "\n",
    "        for i, doc in enumerate(documentos_divididos):\n",
    "            # Get the page number\n",
    "            page = doc.metadata.get('page_label', f\"pagina_{i}\")\n",
    "\n",
    "            # Get the document ID\n",
    "            doc_id = f\"{id}_{i}\"\n",
    "            print(page, doc_id)"
   ]
  },
  {
   "cell_type": "code",
   "execution_count": 3,
   "metadata": {},
   "outputs": [],
   "source": [
    "# Cargar el PDF de forma asíncrona\n",
    "for file_path in dict_pdfs[\"nuevos\"]:\n",
    "    loader = PyPDFLoader(file_path)\n",
    "    pages = []\n",
    "    async for page in loader.alazy_load():\n",
    "        pages.append(page)"
   ]
  },
  {
   "cell_type": "code",
   "execution_count": 4,
   "metadata": {},
   "outputs": [
    {
     "data": {
      "text/plain": [
       "Document(metadata={'producer': 'Antenna House PDF Output Library 6.6.1477 (Linux64)', 'creator': 'eBOE', 'creationdate': '2022-10-18T23:28:16+01:00', 'keywords': 'DECRETO 889/2022 de 18/10/2022;MINISTERIO DE UNIVERSIDADES;BOE-A-2022-17045;BOE 251 de 2022;17045;19/10/2022', 'moddate': '2022-10-18T23:39:43+02:00', 'trapped': '/False', 'subject': 'BOE-A-2022-17045', 'author': 'MINISTERIO DE UNIVERSIDADES', 'title': 'Disposición 17045 del BOE núm. 251 de 2022', 'source': '../01_data/U0924996.pdf', 'total_pages': 28, 'page': 27, 'page_label': '28'}, page_content='Orden ECI/3858/2007, de 27 de diciembre, por la que se establecen los requisitos \\npara la verificación de los títulos universitarios oficiales que habiliten para el ejercicio de \\nlas profesiones de Profesor de Educación Secundaria Obligatoria y Bachillerato, \\nFormación Profesional y Enseñanzas de Idiomas.\\nReal Decreto 775/2011, de 3 de junio, por el que se aprueba el Reglamento de la \\nLey 34/2006, de 30 de octubre, sobre el acceso a las profesiones de Abogado y \\nProcurador de los Tribunales.\\nBOLETÍN OFICIAL DEL ESTADO\\nNúm. 251 Miércoles 19 de octubre de 2022 Sec. I.   Pág. 141889\\ncve: BOE-A-2022-17045\\nVerificable en https://www.boe.es\\nhttps://www.boe.es BOLETÍN OFICIAL DEL ESTADO D. L.: M-1/1958 - ISSN: 0212-033X')"
      ]
     },
     "execution_count": 4,
     "metadata": {},
     "output_type": "execute_result"
    }
   ],
   "source": [
    "page"
   ]
  },
  {
   "cell_type": "code",
   "execution_count": 5,
   "metadata": {},
   "outputs": [],
   "source": [
    "# Crear un text splitter que divida el texto en chunks de hasta 512 tokens\n",
    "# Puedes ajustar el solapamiento (chunk_overlap) según lo requieras para preservar el contexto\n",
    "model_name = \"deepseek-ai/DeepSeek-R1-Distill-Qwen-14B\"\n",
    "\n",
    "# Cargar el tokenizador y el modelo\n",
    "tokenizer = AutoTokenizer.from_pretrained(model_name, trust_remote_code=True)\n",
    "\n",
    "# Función para contar tokens usando el tokenizador de Hugging Face\n",
    "def count_tokens(text: str) -> int:\n",
    "    return len(tokenizer.encode(text, add_special_tokens=False))\n",
    "\n",
    "# Crear un divisor de texto basado en la cuenta de tokens\n",
    "text_splitter = RecursiveCharacterTextSplitter(\n",
    "    chunk_size=512,  # Número máximo de tokens por fragmento\n",
    "    chunk_overlap=50,  # Superposición opcional entre fragmentos\n",
    "    length_function=count_tokens,  # Usa el tokenizador de Hugging Face para contar tokens\n",
    ")"
   ]
  },
  {
   "cell_type": "code",
   "execution_count": 6,
   "metadata": {},
   "outputs": [],
   "source": [
    "# Procesar cada página y dividirla en fragmentos (chunks)\n",
    "chunks = []\n",
    "for page in pages:\n",
    "    # Se divide el contenido de la página en fragmentos de hasta 512 tokens\n",
    "    splitted_texts = text_splitter.split_text(page.page_content) # UNA LISTA DE STRINGS\n",
    "\n",
    "    for chunk_text in splitted_texts:\n",
    "        # Creamos un objeto Document para cada fragmento, manteniendo la metadata (por ejemplo, número de página)\n",
    "        chunks.append(Document(page_content=chunk_text, metadata={\"page\": page.metadata.get(\"page\"), \"file\": page.metadata.get(\"source\").split(\"/\")[-1]}))"
   ]
  },
  {
   "cell_type": "code",
   "execution_count": 7,
   "metadata": {},
   "outputs": [
    {
     "data": {
      "text/plain": [
       "Document(metadata={'page': 7, 'file': 'U0924996.pdf'}, page_content='n.º 1024/2012 relativo a la cooperación administrativa a través del Sistema de \\nInformación del Mercado Interior (Reglamento IMI).\\nArtículo 4.\\u2003Exclusiones.\\n1.\\u2003No podrá concederse la homologación, ni la declaración de equivalencia de \\ntítulos extranjeros, a:\\na)\\u2003Títulos y diplomas propios, especialmente de formación permanente, que \\nimpartan las universidades.\\nb)\\u2003Títulos españoles cuyos planes de estudios se hayan extinguido o que aún no \\nestén implantados en al menos una universidad española.\\nc)\\u2003Niveles académicos distintos de Grado y Máster Universitario. En el caso del \\nnivel académico de Doctorado, se aplicará el procedimiento establecido en la disposición \\nadicional segunda.\\n2.\\u2003No serán objeto de homologación, ni de declaración de equivalencia, los \\nsiguientes títulos extranjeros o estudios expedidos o realizados en el extranjero:\\na)\\u2003En los supuestos de homologación a un título con formación armonizada por \\nnormativa de la Unión Europea, aquellos títulos extranjeros que no cumplan con los \\ncriterios establecidos en dicha normativa.\\nb)\\u2003Los correspondientes a estudios extranjeros realizados, en todo o en parte, en \\nEspaña, cuando los centros carezcan de la preceptiva autorización para impartir tales \\nenseñanzas, o bien cuando las enseñanzas sancionadas por el título extranjero no \\nestuvieran efectivamente implantadas en la universidad o institución de educación \\nsuperior extranjera en el momento en que ésta expidió el título, de acuerdo con lo \\nseñalado en el artículo 86 de la Ley Orgánica 6/2001, de 21 de diciembre, de \\nUniversidades. No obstante, cuando esas circunstancias afecten sólo a parte de los')"
      ]
     },
     "execution_count": 7,
     "metadata": {},
     "output_type": "execute_result"
    }
   ],
   "source": [
    "chunks[20]"
   ]
  },
  {
   "cell_type": "raw",
   "metadata": {
    "vscode": {
     "languageId": "raw"
    }
   },
   "source": [
    "# Generar embeddings para cada fragmento utilizando el modelo HuggingFace (LaBSE)\n",
    "embeddings = HuggingFaceEmbeddings(model_name=\"sentence-transformers/LaBSE\")\n",
    "\n",
    "from langchain.vectorstores import FAISS\n",
    "\n",
    "# Guardar en FAISS\n",
    "vector_store_faiss = FAISS.from_documents(chunks, embeddings)\n",
    "vector_store_faiss.save_local(\"faiss_index\")\n",
    "\n",
    "# Cargar desde FAISS\n",
    "vector_store_faiss_loaded = FAISS.load_local(\"faiss_index\", embeddings)\n",
    "print(\"Vector store cargado desde FAISS.\")"
   ]
  },
  {
   "cell_type": "code",
   "execution_count": 9,
   "metadata": {},
   "outputs": [
    {
     "name": "stderr",
     "output_type": "stream",
     "text": [
      "/var/folders/1w/2mpv0jw11qj_v4tpnrdqv7t40000gn/T/ipykernel_3627/3683623978.py:6: LangChainDeprecationWarning: Since Chroma 0.4.x the manual persistence method is no longer supported as docs are automatically persisted.\n",
      "  vector_store.persist()\n",
      "/var/folders/1w/2mpv0jw11qj_v4tpnrdqv7t40000gn/T/ipykernel_3627/3683623978.py:9: LangChainDeprecationWarning: The class `Chroma` was deprecated in LangChain 0.2.9 and will be removed in 1.0. An updated version of the class exists in the :class:`~langchain-chroma package and should be used instead. To use it run `pip install -U :class:`~langchain-chroma` and import as `from :class:`~langchain_chroma import Chroma``.\n",
      "  vector_store = Chroma(persist_directory=\"chroma_db\", embedding_function=embeddings)\n"
     ]
    }
   ],
   "source": [
    "from langchain.vectorstores import Chroma\n",
    "\n",
    "embeddings = HuggingFaceEmbeddings(model_name=\"sentence-transformers/LaBSE\")\n",
    "\n",
    "vector_store = Chroma.from_documents(chunks, embeddings, persist_directory=\"chroma_db\")\n",
    "vector_store.persist()\n",
    "\n",
    "# Cargar base de datos Chroma\n",
    "vector_store = Chroma(persist_directory=\"chroma_db\", embedding_function=embeddings)"
   ]
  },
  {
   "cell_type": "code",
   "execution_count": 12,
   "metadata": {},
   "outputs": [],
   "source": [
    "# Realizar una búsqueda de similitud para obtener los chunks más relevantes\n",
    "query = \"¿Qué condiciones y limitaciones establece el Real Decreto 1325/2003 para que las personas beneficiarias del régimen de protección temporal sustituyan la documentación exigida por una declaración responsable en el inicio del procedimiento?\"\n",
    "retrieved_docs_with_scores = vector_store.similarity_search_with_score(query, k=5)"
   ]
  },
  {
   "cell_type": "code",
   "execution_count": null,
   "metadata": {},
   "outputs": [],
   "source": []
  },
  {
   "cell_type": "code",
   "execution_count": null,
   "metadata": {},
   "outputs": [
    {
     "data": {
      "text/plain": [
       "0.74338776"
      ]
     },
     "execution_count": 67,
     "metadata": {},
     "output_type": "execute_result"
    }
   ],
   "source": [
    "contexto = retrieved_docs_with_scores[0][0].page_content\n",
    "score = retrieved_docs_with_scores[0][1]"
   ]
  },
  {
   "cell_type": "code",
   "execution_count": null,
   "metadata": {},
   "outputs": [],
   "source": []
  },
  {
   "cell_type": "code",
   "execution_count": 21,
   "metadata": {},
   "outputs": [],
   "source": [
    "prompt = f\"Resuelve este consulta en Español usando la información explicada en el fragmento Contexto: {contexto} Pregunta: {query}\""
   ]
  },
  {
   "cell_type": "code",
   "execution_count": 13,
   "metadata": {},
   "outputs": [
    {
     "name": "stdout",
     "output_type": "stream",
     "text": [
      "<think>\n",
      "Ok, así que tengo que resolver una pregunta sobre un real decreto español, específicamente el Real Decreto 1325/2003. La pregunta es: ¿Qué condiciones y limitaciones establece el Real Decreto 1325/2003 para que las personas beneficiarias del régimen de protección temporal sustituyan la documentación exigida por una declaración responsable en el inicio del procedimiento?\n",
      "\n",
      "Primero, necesito entender bien lo que se me está preguntando. La persona quiere saber cuáles son las condiciones y limitaciones que establece dicho real decreto para que ciertas personas puedan usar una declaración responsable en lugar de la documentación requerida al iniciar un procedimiento.\n",
      "\n",
      "Del contexto proporcionado, veo que el Real Decreto habla de las \"Personas beneficiarias del régimen de protección temporal\". En particular, menciona los artículos 2 y 11 del Reglamento sobre régimen de protección temporal en caso de afluencia masiva de personas desplazadas. También dice que estas personas pueden sustituir la documentación exigida por el artículo 13 del Real Decreto con una declaración responsable, pero solo con carácter excepcional y para el inicio del procedimiento.\n",
      "\n",
      "Ahora, para responder, debo identificar las condiciones y limitaciones específicas. Parece que hay varias cosas importantes:\n",
      "\n",
      "1. **Excepcionalidad**: La sustitución de la documentación por una declaración responsable es excepcional. Es decir, no se aplica en todos los casos, sino solo cuando haya motivos suficientes.\n",
      "\n",
      "2. **Documentación Sustituible**: La documentación que pueden reemplazar está referida en el artículo 13 del Real Decreto actual. No estoy seguro de qué exactamente incluye este artículo, pero supongo que son requisitos administrativos específicos.\n",
      "\n",
      "3. **Declaración Responsable**: Las personas beneficiarias deben presentar una declaración donde manifiesten la veracidad de los datos y su disposición para aportar la documentación completa antes de finalizar el procedimiento.\n",
      "\n",
      "4. **Disposición para Aportar Documentos**: Aunque usan una declaración, están obligadas a presentar la documentación completa durante el procedimiento. Esto implica que no pueden omitir completamente los documentos, sino que solo inicialmente usan la declaración.\n",
      "\n",
      "5. **Régimen de Protección Temporal**: Solo las personas que sean beneficiarias del régimen de protección temporal mencionado en los artículos 2 y 11 del Reglamento pueden hacer esto. Es decir, no cualquier persona, sino aquellos que ya están cubiertos por dicho régimen.\n",
      "\n",
      "6. **Efectos Únicos al Inicio**: La sustitución solo es aplicable al inicio del procedimiento. Probablemente, después de ese punto, se requieren los documentos completos.\n",
      "\n",
      "7. **Cumplimiento de la Ley y Protección Temporal**: Esto probablemente está diseñado para ayudar a personas desplazadas o en situaciones difíciles, donde tal vez no tengan fácil acceso a ciertos documentos, pero sin comprometer la veracidad de la información.\n",
      "\n",
      "También noto que el contexto menciona que las solicitudes inadmitidas se refieren al artículo 4.4 del Real Decreto actual, lo cual quizás está relacionado con las consecuencias si no cumplen con los requisitos o si la declaración responsable no es veraz.\n",
      "\n",
      "Ahora, para estructurar una respuesta clara, debería enumerar cada condición y limitación identificada:\n",
      "\n",
      "- **Excepcionalidad**: Solo en casos excepcionales.\n",
      "- **Documento Sustituible**: Artículo 13 del Real Decreto.\n",
      "- **Declaración Responsable**: Debe ser auténtica y comprometerse a presentar documentos.\n",
      "- **Obligación de Aportar Documentos**: Tienen que hacerlo antes del final del procedimiento.\n",
      "- **Limitado al Inicio del Procedimiento**: Solo al inicio, no durante su desarrollo.\n",
      "- **Régimen Específico**: Solo personas beneficiarias del régimen de protección temporal.\n",
      "\n",
      "También podría mencionar que esto está diseñado para ayudar a personas en situación vulnerable, permitiéndoles iniciar el procedimiento sin los documentos completos inmediatamente, pero sin dejar de cumplir con los requisitos administrativos esenciales.\n",
      "\n",
      "Creo que he cubierto las bases. Tal vez me equivoqué al mencionar \"excepcionalidad\" y \"documentación sustituible\", pero en general, esto debería responder adecuadamente a la pregunta.\n",
      "</think>\n",
      "\n",
      "El Real Decreto 1325/2003 establece condiciones y limitaciones específicas para que las personas beneficiarias del régimen de protección temporal puedan sustituir la documentación exigida por una declaración responsable al inicio del procedimiento. Las mismas son:\n",
      "\n",
      "1. **Excepcionalidad**: La sustitución de la documentación por una declaración responsable es excepcional, aplicándose solo en casos particulares.\n",
      "\n",
      "2. **Documento Sustituible**: Se refiere a los requisitos administrativos mencionados en el artículo 13 del Real Decreto actual.\n",
      "\n",
      "3. **Declaración Responsable**: La persona debe presentar una declaración donde manifieste la veracidad de los datos declarados y se comprometa a aportar la documentación completa antes del final del procedimiento.\n",
      "\n",
      "4. **Obligación de Aportar Documentos**: Aunque inicialmente usan la declaración, están obligadas a presentar toda la documentación requerida durante el desarrollo del procedimiento.\n",
      "\n",
      "5. **Limitación al Inicio del Procedimiento**: La sustitución solo es aplicable al inicio del procedimiento, no extendiéndose a otros momentos.\n",
      "\n",
      "6. **Régimen Específico**: Solo las personas beneficiarias del régimen de protección temporal, según los artículos 2 y 11 del Reglamento, pueden hacer uso de esta disposición.\n",
      "\n",
      "Estas disposiciones buscan facilitar el acceso al procedimiento a personas en situación vulnerable, permitiéndoles iniciar sin documentos completos inicialmente, siempre que cumplan con los requisitos esenciales.\n"
     ]
    }
   ],
   "source": [
    "import ollama\n",
    "\n",
    "response = ollama.chat(model=\"deepseek-r1:14b\", messages=[{\"role\": \"user\", \"content\": prompt}])\n",
    "print(response[\"message\"][\"content\"])"
   ]
  }
 ],
 "metadata": {
  "kernelspec": {
   "display_name": "proy",
   "language": "python",
   "name": "python3"
  },
  "language_info": {
   "codemirror_mode": {
    "name": "ipython",
    "version": 3
   },
   "file_extension": ".py",
   "mimetype": "text/x-python",
   "name": "python",
   "nbconvert_exporter": "python",
   "pygments_lexer": "ipython3",
   "version": "3.11.11"
  }
 },
 "nbformat": 4,
 "nbformat_minor": 2
}
