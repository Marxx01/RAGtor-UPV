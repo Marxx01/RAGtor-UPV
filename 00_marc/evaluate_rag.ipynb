{
 "cells": [
  {
   "cell_type": "code",
   "execution_count": 15,
   "id": "1a4ed5f6",
   "metadata": {},
   "outputs": [],
   "source": [
    "from get_response import PoliGPT\n",
    "\n",
    "def main():\n",
    "    # Inicializar una vez\n",
    "    poligpt_client = PoliGPT(faiss_index_dir = \"../01_data/project_faiss\")\n",
    "    \n",
    "    # Consultar múltiples veces\n",
    "    preguntas = [\n",
    "        \"¿Comó se gestiona una tesis doctoral, y quienes son los usuarios que participan en ella?\",\n",
    "        \"¿En que consisten las jornadas de puertas abiertas de la UPV?\",\n",
    "        \"¿En que consite un crédito?\"\n",
    "    ]\n",
    "    \n",
    "    for pregunta in preguntas:\n",
    "        respuesta = poligpt_client.query_poligpt(pregunta)\n",
    "        print(f\"\\nPregunta: {pregunta}\")\n",
    "        #print(f\"Respuesta: {respuesta}\")\n",
    "        print(f\"Respuesta: {respuesta['response']}\")\n",
    "        context_used = respuesta['context_used']\n",
    "        print(f\"Contexto Usado: {context_used}\")\n",
    "        for element in respuesta['contexts']:\n",
    "            id = element['id']\n",
    "            content = element['content']\n",
    "            if id == context_used:\n",
    "                contexto = content\n",
    "\n",
    "        print(f\"Contexto: {contexto}\")\n",
    "        #print(respuesta)"
   ]
  },
  {
   "cell_type": "code",
   "execution_count": 16,
   "id": "357c9e31",
   "metadata": {},
   "outputs": [
    {
     "name": "stdout",
     "output_type": "stream",
     "text": [
      "FAISS inicializado - Vectores: 79044 | Dimensión: 768\n",
      "\n",
      "Pregunta: ¿Comó se gestiona una tesis doctoral, y quienes son los usuarios que participan en ella?\n",
      "Respuesta: La gestión de una tesis doctoral se coordina a través de los procesos académicos y administrativos de los estudis de doctorat. Los usuarios que participan en ella incluyen al personal investigador y contractado laboral de investigación. No hay información específica sobre normativas relevantes ni valores numéricos aplicables en el contexto proporcionado.\n",
      "Contexto Usado: 72511\n",
      "Contexto:  Desenvolupar  la gestió de personal investigador  i contractat  laboral d’investigació  que, \n",
      "si és el cas, li encomane  el rector. \n",
      " Coordinar  els processos  acadèmics  i administratius  dels estudis de doctorat.  \n",
      " Supervisar  la direcció de la biblioteca  i la gestió dels productes  bibliogràfics.  \n",
      " Promoure,  organitzar  i supervisar  les accions realitzades  en el marc dels programes  de \n",
      "ciència oberta i documentació  científica.\n",
      "\n",
      "Pregunta: ¿En que consisten las jornadas de puertas abiertas de la UPV?\n",
      "Respuesta: No hay información suficiente en el contexto proporcionado para describir en qué consisten las jornadas de puertas abiertas de la UPV. El texto solo menciona actividades universitarias culturales sin especificar detalles sobre las jornadas de puertas abiertas.\n",
      "Contexto Usado: 60290\n",
      "Contexto: 4.3.2. Activitats universitàries culturals  \n",
      " \n",
      "Les propostes d’activitats universitàries culturals que es poden considerar dins d’aquest àmbit \n",
      "són les que organitzen els diferents vicerectorats, centres, departaments, instituts universitaris \n",
      "de la Universitat Politècnica de València, o col∙ legis majors i centres privats adscrits a la UPV.\n",
      "\n",
      "Pregunta: ¿En que consite un crédito?\n",
      "Respuesta: Un crédito consiste en el reconocimiento, aceptación, pago o cobro de deudas por capital e intereses.\n",
      "Contexto Usado: 56099\n",
      "Contexto: tota mena de dr ets i obligacions; r etre, exigir i aprovar\n",
      "comptes; signar i seguir correspondència; constituir,\n",
      "modificar , extingir i liquidar contractes de tota mena,\n",
      "particularment d’arrendament, assegurança, treball itransport de qualsevol classe; reconèixer, acceptar, pagari cobrar qualssevol deutes i crèdits per capital, inter essos,\n"
     ]
    }
   ],
   "source": [
    "main()"
   ]
  },
  {
   "cell_type": "code",
   "execution_count": null,
   "id": "44b923c3",
   "metadata": {},
   "outputs": [],
   "source": [
    "from ragas import evaluate\n",
    "from ragas.metrics import (\n",
    "    faithfulness,\n",
    "    response_relevancy,      # alias answer_relevancy según la versión\n",
    "    context_precision,\n",
    ")\n",
    "\n",
    "# Dataset SIN ground_truths\n",
    "from datasets import Dataset\n",
    "eval_ds = Dataset.from_dict({\n",
    "    \"question\": [\"\"],\n",
    "    \"contexts\": [[\n",
    "        \"El Super Bowl I se jugó el 15 de enero de 1967...\"\n",
    "    ]],\n",
    "    \"answer\":   [\"Lo ganaron los Green Bay Packers por 35‑10.\"],\n",
    "})\n",
    "\n",
    "metrics = [faithfulness, response_relevancy, context_precision]\n",
    "\n",
    "scores = evaluate(eval_ds, metrics=metrics)\n",
    "print(scores)        # {'faithfulness': 0.94, 'response_relevancy': 0.92, 'context_precision': 0.83}\n"
   ]
  }
 ],
 "metadata": {
  "kernelspec": {
   "display_name": "proy",
   "language": "python",
   "name": "python3"
  },
  "language_info": {
   "codemirror_mode": {
    "name": "ipython",
    "version": 3
   },
   "file_extension": ".py",
   "mimetype": "text/x-python",
   "name": "python",
   "nbconvert_exporter": "python",
   "pygments_lexer": "ipython3",
   "version": "3.11.11"
  }
 },
 "nbformat": 4,
 "nbformat_minor": 5
}
