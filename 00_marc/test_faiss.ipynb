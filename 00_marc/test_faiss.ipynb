{
 "cells": [
  {
   "cell_type": "code",
   "execution_count": null,
   "metadata": {},
   "outputs": [],
   "source": [
    "import database_faiss as faissdb\n",
    "import database_sql as db\n",
    "import openai\n",
    "from langchain_huggingface.embeddings import HuggingFaceEmbeddings"
   ]
  },
  {
   "cell_type": "code",
   "execution_count": 8,
   "metadata": {},
   "outputs": [
    {
     "name": "stderr",
     "output_type": "stream",
     "text": [
      "C:\\Users\\ojeem\\AppData\\Local\\Packages\\PythonSoftwareFoundation.Python.3.11_qbz5n2kfra8p0\\LocalCache\\local-packages\\Python311\\site-packages\\tqdm\\auto.py:21: TqdmWarning: IProgress not found. Please update jupyter and ipywidgets. See https://ipywidgets.readthedocs.io/en/stable/user_install.html\n",
      "  from .autonotebook import tqdm as notebook_tqdm\n"
     ]
    }
   ],
   "source": [
    "model = HuggingFaceEmbeddings(model_name=\"sentence-transformers/LaBSE\")\n",
    "embedding_dim = len(model.embed_query(\"hello world\"))\n",
    "import faiss\n",
    "index = faiss.IndexFlatL2(embedding_dim)\n",
    "vector_store = faissdb.connect_faiss(embedding_model=model, index=index, faiss_index_dir='../01_data/project_faiss')"
   ]
  },
  {
   "cell_type": "code",
   "execution_count": 9,
   "metadata": {},
   "outputs": [
    {
     "name": "stdout",
     "output_type": "stream",
     "text": [
      "Número de vectores indexados: 79044\n"
     ]
    }
   ],
   "source": [
    "total_vectores = vector_store.index.ntotal\n",
    "print(\"Número de vectores indexados:\", total_vectores)"
   ]
  },
  {
   "cell_type": "code",
   "execution_count": 10,
   "metadata": {},
   "outputs": [
    {
     "name": "stdout",
     "output_type": "stream",
     "text": [
      "Dimensionalidad de los vectores: 768\n"
     ]
    }
   ],
   "source": [
    "dimension = vector_store.index.d\n",
    "print(\"Dimensionalidad de los vectores:\", dimension)"
   ]
  },
  {
   "cell_type": "code",
   "execution_count": 11,
   "metadata": {},
   "outputs": [],
   "source": [
    "query = \"¿Cuántas horas de prácticas curriculares equivalen a un crédito ECTS?\""
   ]
  },
  {
   "cell_type": "code",
   "execution_count": 12,
   "metadata": {},
   "outputs": [
    {
     "data": {
      "text/plain": [
       "[(Document(id='40722', metadata={'page': 4}, page_content='En resumen,  el reconocimiento  de la labor \\ndocente (denominada  CREP) para 1 crédito ECTS, \\nestará comprendido  entre 11 y 12 horas. De tal \\nforma que 1 crédito ECTS contiene 10 horas de \\nactividad docente presencial,  y las 2 horas \\nrestantes,  como máximo, corresponden  al \\nreconocimiento  de actividades.  \\n 2. Se mantiene  el reconocimiento  de la labor \\ndocente del profesorado  de tal forma\\n que se \\nasume que 1 crédito ECTS contiene 10 horas de \\nactividad docente presencial.'),\n",
       "  np.float32(0.7500471)),\n",
       " (Document(id='16507', metadata={'page': 2}, page_content='titulaciones  oficiales, serán contempladas  en el \\nsuplemento  europeo al título (SET) conforme  \\ndetermine  la normativa  vigente. \\n \\nTercero.‐ La redacción  de los apartados  1 y 2 del \\nartículo 5 queda de la siguiente manera: \\n 1. La duración de las prácticas académicas  externas \\nserá la siguiente,  considerando  que 1 crédito ECTS \\nequivale a 25 horas de prácticas:  \\n a) Las prácticas externas curriculares  \\ntendrán la \\nduración que establezca  el plan de estudios'),\n",
       "  np.float32(0.7637899)),\n",
       " (Document(id='25302', metadata={'page': 5}, page_content='crédito ECTS eq uivale a 25 horas de prácticas:  \\n \\na) Las prácticas externas curriculares tendrán la duración que establezca el plan de estudios \\ncorrespondiente, en los términos estableci dos por el Real Decreto 822/2021, de 28 de \\nseptiembre, por el que se establece la ordenación de las enseñanzas universitarias y del \\nprocedimiento de aseguramiento de su calidad, en sus artículos 14.5 y 17.3, para los títulos'),\n",
       "  np.float32(0.7693029))]"
      ]
     },
     "execution_count": 12,
     "metadata": {},
     "output_type": "execute_result"
    }
   ],
   "source": [
    "results = vector_store.similarity_search_with_score(query, k=3)\n",
    "contexto = results[0][0].page_content\n",
    "id = results[0][0].id\n",
    "results"
   ]
  },
  {
   "cell_type": "code",
   "execution_count": null,
   "metadata": {},
   "outputs": [],
   "source": [
    "prompt_cot = (  \n",
    "    \"Sigue este proceso para responder:\\n\"  \n",
    "    \"1. Analiza la pregunta y el contexto detenidamente.\\n\"  \n",
    "    \"2. Identifica datos numéricos o términos clave en el contexto.\\n\"  \n",
    "    \"3. Determina si el contexto contiene información relevante para la pregunta.\\n\"  \n",
    "    \"4. Si no hay datos suficientes, decláralo explícitamente.\\n\"  \n",
    "    \"5. Si hay información válida, deriva la respuesta paso a paso.\\n\\n\"  \n",
    "    \"**Pregunta:** {query}\\n\"  \n",
    "    \"**Contexto UPV:** {context}\\n\\n\"  \n",
    "    \"**Respuesta (formato requerido):**\\n\"  \n",
    "    \"Razonamiento:\\n\"  \n",
    "    \"- [Pasos lógicos basados en el contexto]\\n\\n\"  \n",
    "    \"Respuesta final:\\n\"  \n",
    "    \"- Basado en el contexto: [Sí/No]\\n\"  \n",
    "    \"- Detalle: [Explicación concisa con datos exactos]\"  \n",
    ")  \n",
    "def get_response(client, query, context):  \n",
    "    response = client.chat.completions.create(  \n",
    "        model=\"poligpt\",  \n",
    "        messages=[{  \n",
    "            \"role\": \"user\",  \n",
    "            \"content\": prompt_cot.format(query=query, context=context)  \n",
    "        }]  \n",
    "    )  \n",
    "    return response.choices[0].message.content"
   ]
  },
  {
   "cell_type": "code",
   "execution_count": 19,
   "metadata": {},
   "outputs": [],
   "source": [
    "def get_response(client, query, context):\n",
    "    response = client.chat.completions.create(\n",
    "        model=\"poligpt\",\n",
    "        messages = [\n",
    "            {\n",
    "                \"role\": \"user\",\n",
    "                \"content\": f\"Responde a la siguiente pregunta usando el contexto suministrado.\\n\\nPregunta: {query}\\nContexto: {context}\"\n",
    "            }\n",
    "        ]\n",
    "    )\n",
    "    return response.choices[0].message.content"
   ]
  },
  {
   "cell_type": "code",
   "execution_count": 25,
   "metadata": {},
   "outputs": [],
   "source": [
    "client = openai.OpenAI(\n",
    "        api_key=\"sk-1C-hWjmHEW05iQjwmr9EnA\",\n",
    "        base_url=\"https://api.poligpt.upv.es\"\n",
    "    )"
   ]
  },
  {
   "cell_type": "code",
   "execution_count": 26,
   "metadata": {},
   "outputs": [
    {
     "name": "stdout",
     "output_type": "stream",
     "text": [
      "Response: Razonamiento:\n",
      "1. **Identificar la pregunta clave**: La pregunta busca saber cuántas horas de prácticas curriculares equivalen a un crédito ECTS.\n",
      "2. **Analizar el contexto proporcionado**: El contexto se refiere al reconocimiento de la labor docente (CREP) y su relación con los créditos ECTS en la UPV, mencionando que 1 crédito ECTS está relacionado con una cantidad específica de horas de actividad docente presencial y otras actividades.\n",
      "3. **Extraer datos relevantes**: Según el contexto, 1 crédito ECTS contiene 10 horas de actividad docente presencial, más un máximo de 2 horas por reconocimiento de otras actividades.\n",
      "4. **Relacionar con la pregunta**: La pregunta sobre prácticas curriculares y su equivalencia en horas a un crédito ECTS se puede relacionar indirectamente con el contexto proporcionado, que habla sobre el tiempo dedicado a la actividad docente presencial.\n",
      "\n",
      "Respuesta final:\n",
      "- Basado en el contexto: Sí\n",
      "- Detalle: Según el contexto de la UPV, 1 crédito ECTS equivale a 10 horas de actividad docente presencial más un máximo de 2 horas por reconocimiento de actividades. Sin embargo, no se proporciona una equivalencia directa para \"prácticas curriculares\", pero podemos inferir que, como mínimo, 10 horas de actividad (docente presencial en este caso) son consideradas para 1 crédito ECTS. Es importante tener en cuenta que la pregunta sobre prácticas curriculares no es abordada directamente por el contexto, lo que podría sugerir una posible falta de información específica al respecto.\n"
     ]
    }
   ],
   "source": [
    "answer = get_response(client, query, contexto)\n",
    "print(\"Response:\", answer)"
   ]
  },
  {
   "cell_type": "code",
   "execution_count": null,
   "metadata": {},
   "outputs": [],
   "source": [
    "import textwrap\n",
    "from typing import List\n",
    "RAG_PROMPT = textwrap.dedent(\"\"\"\n",
    "### Sistema\n",
    "Eres un asistente que *solo* puede contestar usando la información incluida en el CONTEXTO.\n",
    "\n",
    "### Instrucciones\n",
    "1. Si el CONTEXTO está vacío o no contiene datos relevantes para la pregunta, responde exactamente:\n",
    "   No hay información disponible en el contexto.\n",
    "2. No inventes ni completes con conocimiento externo.\n",
    "3. Cuando cites números, nombres propios o fechas, *mantenlos tal cual* aparecen en el CONTEXTO.\n",
    "4. Responde en español de forma clara y concisa.\n",
    "\n",
    "### CONTEXTO\n",
    "{context}\n",
    "\n",
    "### PREGUNTA\n",
    "{question}\n",
    "\n",
    "### RESPUESTA\n",
    "\"\"\").strip()\n",
    "\n",
    "# ───────────────────────────────────────────\n",
    "# 1. Plantilla de prompt para respuesta RAG\n",
    "# ───────────────────────────────────────────\n",
    "RAG_PROMPT = textwrap.dedent(\"\"\"\n",
    "### Sistema\n",
    "Eres un asistente que *solo* puede contestar usando la información incluida en el CONTEXTO.\n",
    "\n",
    "### Instrucciones\n",
    "1. Si el CONTEXTO está vacío o no contiene datos relevantes para la pregunta, responde exactamente:\n",
    "   No hay información disponible en el contexto.\n",
    "2. No inventes ni completes con conocimiento externo.\n",
    "3. Cuando cites números, nombres propios o fechas, *mantenlos tal cual* aparecen en el CONTEXTO.\n",
    "4. Responde en español de forma clara y concisa.\n",
    "\n",
    "### CONTEXTO\n",
    "{context}\n",
    "\n",
    "### PREGUNTA\n",
    "{question}\n",
    "\n",
    "### RESPUESTA\n",
    "\"\"\").strip()\n",
    "\n",
    "# ───────────────────────────────────────────\n",
    "# 2. Función de respuesta usando el contexto\n",
    "# ───────────────────────────────────────────\n",
    "def answer_from_context(\n",
    "        client,\n",
    "        question: str,\n",
    "        context_chunks: List[str],\n",
    "        model_name: str = \"poligpt\"\n",
    "    ) -> str:\n",
    "    \"\"\"\n",
    "    Devuelve la respuesta a question basándose únicamente en context_chunks.\n",
    "    - client: Objeto OpenAI o compatible, ya inicializado.\n",
    "    - model_name: Nombre del modelo que tengas desplegado en tu endpoint.\n",
    "    \"\"\"\n",
    "    # Concatenamos el contexto en un solo string\n",
    "    context = \"\\n\\n\".join(context_chunks).strip()\n",
    "\n",
    "    # Si no hay contexto devolvemos directamente el fallback, ahorramos una llamada al modelo\n",
    "    if not context:\n",
    "        return \"No hay información disponible en el contexto.\"\n",
    "\n",
    "    prompt = RAG_PROMPT.format(context=context, question=question.strip())\n",
    "\n",
    "    response = client.chat.completions.create(\n",
    "        model=model_name,\n",
    "        messages=[{\"role\": \"user\", \"content\": prompt}]\n",
    "    )\n",
    "\n",
    "    return response.choices[0].message.content.strip()\n",
    "\n",
    "# ───────────────────────────────────────────\n",
    "# 3. Plantilla y función para generar preguntas\n",
    "# ───────────────────────────────────────────\n",
    "QUESTION_PROMPT = textwrap.dedent(\"\"\"\n",
    "Lee el CONTEXTO y redacta *una sola pregunta* cuya respuesta aparezca explícitamente en él.\n",
    "No incluyas la respuesta, solo la pregunta.\n",
    "\n",
    "### CONTEXTO\n",
    "{context}\n",
    "\n",
    "### PREGUNTA\n",
    "\"\"\").strip()\n",
    "\n",
    "def question_from_context(\n",
    "        client,\n",
    "        context_chunks: List[str],\n",
    "        model_name: str = \"poligpt\"\n",
    "    ) -> str:\n",
    "    \"\"\"\n",
    "    Genera una pregunta basada exclusivamente en context_chunks.\n",
    "    Útil para tests de comprensión o para comprobar que el modelo \"ve\" el contexto.\n",
    "    \"\"\"\n",
    "    context = \"\\n\\n\".join(context_chunks).strip()\n",
    "\n",
    "    # Si no hay contexto tampoco tiene sentido preguntar\n",
    "    if not context:\n",
    "        return \"No hay información disponible en el contexto.\"\n",
    "\n",
    "    prompt = QUESTION_PROMPT.format(context=context)\n",
    "\n",
    "    response = client.chat.completions.create(\n",
    "        model=model_name,\n",
    "        messages=[{\"role\": \"user\", \"content\": prompt}]\n",
    "    )\n",
    "\n",
    "    return response.choices[0].message.content.strip()"
   ]
  }
 ],
 "metadata": {
  "kernelspec": {
   "display_name": "Python 3",
   "language": "python",
   "name": "python3"
  },
  "language_info": {
   "codemirror_mode": {
    "name": "ipython",
    "version": 3
   },
   "file_extension": ".py",
   "mimetype": "text/x-python",
   "name": "python",
   "nbconvert_exporter": "python",
   "pygments_lexer": "ipython3",
   "version": "3.11.9"
  }
 },
 "nbformat": 4,
 "nbformat_minor": 2
}
