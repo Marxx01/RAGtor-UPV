{
 "cells": [
  {
   "cell_type": "code",
   "execution_count": 1,
   "metadata": {},
   "outputs": [],
   "source": [
    "import database_faiss as faissdb\n",
    "import database_sql as db\n",
    "import openai\n",
    "from langchain_huggingface.embeddings import HuggingFaceEmbeddings"
   ]
  },
  {
   "cell_type": "code",
   "execution_count": 2,
   "metadata": {},
   "outputs": [],
   "source": [
    "model = HuggingFaceEmbeddings(model_name=\"sentence-transformers/LaBSE\")\n",
    "embedding_dim = len(model.embed_query(\"hello world\"))\n",
    "import faiss\n",
    "index = faiss.IndexFlatL2(embedding_dim)\n",
    "vector_store = faissdb.connect_faiss(embedding_model=model, index=index, faiss_index_dir='../01_data/project_faiss')"
   ]
  },
  {
   "cell_type": "code",
   "execution_count": 3,
   "metadata": {},
   "outputs": [
    {
     "name": "stdout",
     "output_type": "stream",
     "text": [
      "Número de vectores indexados: 79044\n"
     ]
    }
   ],
   "source": [
    "total_vectores = vector_store.index.ntotal\n",
    "print(\"Número de vectores indexados:\", total_vectores)"
   ]
  },
  {
   "cell_type": "code",
   "execution_count": 4,
   "metadata": {},
   "outputs": [
    {
     "name": "stdout",
     "output_type": "stream",
     "text": [
      "Dimensionalidad de los vectores: 768\n"
     ]
    }
   ],
   "source": [
    "dimension = vector_store.index.d\n",
    "print(\"Dimensionalidad de los vectores:\", dimension)"
   ]
  },
  {
   "cell_type": "code",
   "execution_count": 5,
   "metadata": {},
   "outputs": [],
   "source": [
    "query = \"¿Cuántas horas de prácticas curriculares equivalen a un crédito ECTS?\""
   ]
  },
  {
   "cell_type": "code",
   "execution_count": 6,
   "metadata": {},
   "outputs": [
    {
     "data": {
      "text/plain": [
       "[(Document(id='40722', metadata={'page': 4}, page_content='En resumen,  el reconocimiento  de la labor \\ndocente (denominada  CREP) para 1 crédito ECTS, \\nestará comprendido  entre 11 y 12 horas. De tal \\nforma que 1 crédito ECTS contiene 10 horas de \\nactividad docente presencial,  y las 2 horas \\nrestantes,  como máximo, corresponden  al \\nreconocimiento  de actividades.  \\n 2. Se mantiene  el reconocimiento  de la labor \\ndocente del profesorado  de tal forma\\n que se \\nasume que 1 crédito ECTS contiene 10 horas de \\nactividad docente presencial.'),\n",
       "  0.7500472),\n",
       " (Document(id='16507', metadata={'page': 2}, page_content='titulaciones  oficiales, serán contempladas  en el \\nsuplemento  europeo al título (SET) conforme  \\ndetermine  la normativa  vigente. \\n \\nTercero.‐ La redacción  de los apartados  1 y 2 del \\nartículo 5 queda de la siguiente manera: \\n 1. La duración de las prácticas académicas  externas \\nserá la siguiente,  considerando  que 1 crédito ECTS \\nequivale a 25 horas de prácticas:  \\n a) Las prácticas externas curriculares  \\ntendrán la \\nduración que establezca  el plan de estudios'),\n",
       "  0.76379),\n",
       " (Document(id='25302', metadata={'page': 5}, page_content='crédito ECTS eq uivale a 25 horas de prácticas:  \\n \\na) Las prácticas externas curriculares tendrán la duración que establezca el plan de estudios \\ncorrespondiente, en los términos estableci dos por el Real Decreto 822/2021, de 28 de \\nseptiembre, por el que se establece la ordenación de las enseñanzas universitarias y del \\nprocedimiento de aseguramiento de su calidad, en sus artículos 14.5 y 17.3, para los títulos'),\n",
       "  0.769303)]"
      ]
     },
     "execution_count": 6,
     "metadata": {},
     "output_type": "execute_result"
    }
   ],
   "source": [
    "results = vector_store.similarity_search_with_score(query, k=3)\n",
    "contexto = results[0][0].page_content\n",
    "id = results[0][0].id\n",
    "results"
   ]
  },
  {
   "cell_type": "code",
   "execution_count": 7,
   "metadata": {},
   "outputs": [],
   "source": [
    "def get_response(client, query, context):\n",
    "    response = client.chat.completions.create(\n",
    "        model=\"poligpt\",\n",
    "        messages = [\n",
    "            {\n",
    "                \"role\": \"user\",\n",
    "                \"content\": f\"Responde a la siguiente pregunta usando el contexto suministrado.\\n\\nPregunta: {query}\\nContexto: {context}\"\n",
    "            }\n",
    "        ]\n",
    "    )\n",
    "    return response.choices[0].message.content"
   ]
  },
  {
   "cell_type": "code",
   "execution_count": 8,
   "metadata": {},
   "outputs": [],
   "source": [
    "client = openai.OpenAI(\n",
    "        api_key=\"sk-1C-hWjmHEW05iQjwmr9EnA\",\n",
    "        base_url=\"https://api.poligpt.upv.es\"\n",
    "    )"
   ]
  },
  {
   "cell_type": "code",
   "execution_count": 9,
   "metadata": {},
   "outputs": [
    {
     "name": "stdout",
     "output_type": "stream",
     "text": [
      "Response: Según el contexto, 1 crédito ECTS equivale a entre 11 y 12 horas de prácticas curriculares en total, considerando tanto la actividad docente presencial como el reconocimiento de actividades adicionales.\n",
      "\n",
      "Desglosado:\n",
      "\n",
      "- Actividad docente presencial: 10 horas\n",
      "- Reconocimiento de actividades adicionales: hasta 2 horas\n",
      "\n",
      "Por lo tanto, un crédito ECTS puede equivaler a entre 11 y 12 horas en total.\n"
     ]
    }
   ],
   "source": [
    "answer = get_response(client, query, contexto)\n",
    "print(\"Response:\", answer)"
   ]
  }
 ],
 "metadata": {
  "kernelspec": {
   "display_name": "base",
   "language": "python",
   "name": "python3"
  },
  "language_info": {
   "codemirror_mode": {
    "name": "ipython",
    "version": 3
   },
   "file_extension": ".py",
   "mimetype": "text/x-python",
   "name": "python",
   "nbconvert_exporter": "python",
   "pygments_lexer": "ipython3",
   "version": "3.11.7"
  }
 },
 "nbformat": 4,
 "nbformat_minor": 2
}
